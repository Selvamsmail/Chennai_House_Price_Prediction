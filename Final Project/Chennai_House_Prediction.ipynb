{
  "nbformat": 4,
  "nbformat_minor": 0,
  "metadata": {
    "colab": {
      "name": "Chennai House Prediction",
      "provenance": [],
      "collapsed_sections": []
    },
    "kernelspec": {
      "name": "python3",
      "display_name": "Python 3"
    },
    "language_info": {
      "name": "python"
    }
  },
  "cells": [
    {
      "cell_type": "code",
      "execution_count": 829,
      "metadata": {
        "id": "UC4FNqaOS3NE"
      },
      "outputs": [],
      "source": [
        "import pandas as pd\n",
        "import numpy as np"
      ]
    },
    {
      "cell_type": "code",
      "source": [
        "tdf = pd.read_csv('/content/train-chennai-sale.csv')\n",
        "tdf.columns"
      ],
      "metadata": {
        "colab": {
          "base_uri": "https://localhost:8080/"
        },
        "id": "NFgnzXTpUMJ6",
        "outputId": "285a79c1-66da-4178-8d4e-1a2fc12e8013"
      },
      "execution_count": 830,
      "outputs": [
        {
          "output_type": "execute_result",
          "data": {
            "text/plain": [
              "Index(['PRT_ID', 'AREA', 'INT_SQFT', 'DATE_SALE', 'DIST_MAINROAD', 'N_BEDROOM',\n",
              "       'N_BATHROOM', 'N_ROOM', 'SALE_COND', 'PARK_FACIL', 'DATE_BUILD',\n",
              "       'BUILDTYPE', 'UTILITY_AVAIL', 'STREET', 'MZZONE', 'QS_ROOMS',\n",
              "       'QS_BATHROOM', 'QS_BEDROOM', 'QS_OVERALL', 'REG_FEE', 'COMMIS',\n",
              "       'SALES_PRICE'],\n",
              "      dtype='object')"
            ]
          },
          "metadata": {},
          "execution_count": 830
        }
      ]
    },
    {
      "cell_type": "code",
      "source": [
        "df = tdf.drop('PRT_ID', axis = 1)\n",
        "df.head()"
      ],
      "metadata": {
        "colab": {
          "base_uri": "https://localhost:8080/",
          "height": 386
        },
        "id": "mz5yZIixhFAj",
        "outputId": "5c36b98b-f1ca-41c3-a1f1-e861d09262fd"
      },
      "execution_count": 831,
      "outputs": [
        {
          "output_type": "execute_result",
          "data": {
            "text/plain": [
              "         AREA  INT_SQFT   DATE_SALE  DIST_MAINROAD  N_BEDROOM  N_BATHROOM  \\\n",
              "0  Karapakkam      1004  04-05-2011            131        1.0         1.0   \n",
              "1  Anna Nagar      1986  19-12-2006             26        2.0         1.0   \n",
              "2       Adyar       909  04-02-2012             70        1.0         1.0   \n",
              "3   Velachery      1855  13-03-2010             14        3.0         2.0   \n",
              "4  Karapakkam      1226  05-10-2009             84        1.0         1.0   \n",
              "\n",
              "   N_ROOM SALE_COND PARK_FACIL  DATE_BUILD  ... UTILITY_AVAIL  STREET MZZONE  \\\n",
              "0       3  AbNormal        Yes  15-05-1967  ...        AllPub   Paved      A   \n",
              "1       5  AbNormal         No  22-12-1995  ...        AllPub  Gravel     RH   \n",
              "2       3  AbNormal        Yes  09-02-1992  ...           ELO  Gravel     RL   \n",
              "3       5    Family         No  18-03-1988  ...       NoSewr    Paved      I   \n",
              "4       3  AbNormal        Yes  13-10-1979  ...        AllPub  Gravel      C   \n",
              "\n",
              "  QS_ROOMS  QS_BATHROOM  QS_BEDROOM  QS_OVERALL  REG_FEE  COMMIS  SALES_PRICE  \n",
              "0      4.0          3.9         4.9       4.330   380000  144400      7600000  \n",
              "1      4.9          4.2         2.5       3.765   760122  304049     21717770  \n",
              "2      4.1          3.8         2.2       3.090   421094   92114     13159200  \n",
              "3      4.7          3.9         3.6       4.010   356321   77042      9630290  \n",
              "4      3.0          2.5         4.1       3.290   237000   74063      7406250  \n",
              "\n",
              "[5 rows x 21 columns]"
            ],
            "text/html": [
              "\n",
              "  <div id=\"df-1fb16e2a-f312-4f75-8867-81832d1c475e\">\n",
              "    <div class=\"colab-df-container\">\n",
              "      <div>\n",
              "<style scoped>\n",
              "    .dataframe tbody tr th:only-of-type {\n",
              "        vertical-align: middle;\n",
              "    }\n",
              "\n",
              "    .dataframe tbody tr th {\n",
              "        vertical-align: top;\n",
              "    }\n",
              "\n",
              "    .dataframe thead th {\n",
              "        text-align: right;\n",
              "    }\n",
              "</style>\n",
              "<table border=\"1\" class=\"dataframe\">\n",
              "  <thead>\n",
              "    <tr style=\"text-align: right;\">\n",
              "      <th></th>\n",
              "      <th>AREA</th>\n",
              "      <th>INT_SQFT</th>\n",
              "      <th>DATE_SALE</th>\n",
              "      <th>DIST_MAINROAD</th>\n",
              "      <th>N_BEDROOM</th>\n",
              "      <th>N_BATHROOM</th>\n",
              "      <th>N_ROOM</th>\n",
              "      <th>SALE_COND</th>\n",
              "      <th>PARK_FACIL</th>\n",
              "      <th>DATE_BUILD</th>\n",
              "      <th>...</th>\n",
              "      <th>UTILITY_AVAIL</th>\n",
              "      <th>STREET</th>\n",
              "      <th>MZZONE</th>\n",
              "      <th>QS_ROOMS</th>\n",
              "      <th>QS_BATHROOM</th>\n",
              "      <th>QS_BEDROOM</th>\n",
              "      <th>QS_OVERALL</th>\n",
              "      <th>REG_FEE</th>\n",
              "      <th>COMMIS</th>\n",
              "      <th>SALES_PRICE</th>\n",
              "    </tr>\n",
              "  </thead>\n",
              "  <tbody>\n",
              "    <tr>\n",
              "      <th>0</th>\n",
              "      <td>Karapakkam</td>\n",
              "      <td>1004</td>\n",
              "      <td>04-05-2011</td>\n",
              "      <td>131</td>\n",
              "      <td>1.0</td>\n",
              "      <td>1.0</td>\n",
              "      <td>3</td>\n",
              "      <td>AbNormal</td>\n",
              "      <td>Yes</td>\n",
              "      <td>15-05-1967</td>\n",
              "      <td>...</td>\n",
              "      <td>AllPub</td>\n",
              "      <td>Paved</td>\n",
              "      <td>A</td>\n",
              "      <td>4.0</td>\n",
              "      <td>3.9</td>\n",
              "      <td>4.9</td>\n",
              "      <td>4.330</td>\n",
              "      <td>380000</td>\n",
              "      <td>144400</td>\n",
              "      <td>7600000</td>\n",
              "    </tr>\n",
              "    <tr>\n",
              "      <th>1</th>\n",
              "      <td>Anna Nagar</td>\n",
              "      <td>1986</td>\n",
              "      <td>19-12-2006</td>\n",
              "      <td>26</td>\n",
              "      <td>2.0</td>\n",
              "      <td>1.0</td>\n",
              "      <td>5</td>\n",
              "      <td>AbNormal</td>\n",
              "      <td>No</td>\n",
              "      <td>22-12-1995</td>\n",
              "      <td>...</td>\n",
              "      <td>AllPub</td>\n",
              "      <td>Gravel</td>\n",
              "      <td>RH</td>\n",
              "      <td>4.9</td>\n",
              "      <td>4.2</td>\n",
              "      <td>2.5</td>\n",
              "      <td>3.765</td>\n",
              "      <td>760122</td>\n",
              "      <td>304049</td>\n",
              "      <td>21717770</td>\n",
              "    </tr>\n",
              "    <tr>\n",
              "      <th>2</th>\n",
              "      <td>Adyar</td>\n",
              "      <td>909</td>\n",
              "      <td>04-02-2012</td>\n",
              "      <td>70</td>\n",
              "      <td>1.0</td>\n",
              "      <td>1.0</td>\n",
              "      <td>3</td>\n",
              "      <td>AbNormal</td>\n",
              "      <td>Yes</td>\n",
              "      <td>09-02-1992</td>\n",
              "      <td>...</td>\n",
              "      <td>ELO</td>\n",
              "      <td>Gravel</td>\n",
              "      <td>RL</td>\n",
              "      <td>4.1</td>\n",
              "      <td>3.8</td>\n",
              "      <td>2.2</td>\n",
              "      <td>3.090</td>\n",
              "      <td>421094</td>\n",
              "      <td>92114</td>\n",
              "      <td>13159200</td>\n",
              "    </tr>\n",
              "    <tr>\n",
              "      <th>3</th>\n",
              "      <td>Velachery</td>\n",
              "      <td>1855</td>\n",
              "      <td>13-03-2010</td>\n",
              "      <td>14</td>\n",
              "      <td>3.0</td>\n",
              "      <td>2.0</td>\n",
              "      <td>5</td>\n",
              "      <td>Family</td>\n",
              "      <td>No</td>\n",
              "      <td>18-03-1988</td>\n",
              "      <td>...</td>\n",
              "      <td>NoSewr</td>\n",
              "      <td>Paved</td>\n",
              "      <td>I</td>\n",
              "      <td>4.7</td>\n",
              "      <td>3.9</td>\n",
              "      <td>3.6</td>\n",
              "      <td>4.010</td>\n",
              "      <td>356321</td>\n",
              "      <td>77042</td>\n",
              "      <td>9630290</td>\n",
              "    </tr>\n",
              "    <tr>\n",
              "      <th>4</th>\n",
              "      <td>Karapakkam</td>\n",
              "      <td>1226</td>\n",
              "      <td>05-10-2009</td>\n",
              "      <td>84</td>\n",
              "      <td>1.0</td>\n",
              "      <td>1.0</td>\n",
              "      <td>3</td>\n",
              "      <td>AbNormal</td>\n",
              "      <td>Yes</td>\n",
              "      <td>13-10-1979</td>\n",
              "      <td>...</td>\n",
              "      <td>AllPub</td>\n",
              "      <td>Gravel</td>\n",
              "      <td>C</td>\n",
              "      <td>3.0</td>\n",
              "      <td>2.5</td>\n",
              "      <td>4.1</td>\n",
              "      <td>3.290</td>\n",
              "      <td>237000</td>\n",
              "      <td>74063</td>\n",
              "      <td>7406250</td>\n",
              "    </tr>\n",
              "  </tbody>\n",
              "</table>\n",
              "<p>5 rows × 21 columns</p>\n",
              "</div>\n",
              "      <button class=\"colab-df-convert\" onclick=\"convertToInteractive('df-1fb16e2a-f312-4f75-8867-81832d1c475e')\"\n",
              "              title=\"Convert this dataframe to an interactive table.\"\n",
              "              style=\"display:none;\">\n",
              "        \n",
              "  <svg xmlns=\"http://www.w3.org/2000/svg\" height=\"24px\"viewBox=\"0 0 24 24\"\n",
              "       width=\"24px\">\n",
              "    <path d=\"M0 0h24v24H0V0z\" fill=\"none\"/>\n",
              "    <path d=\"M18.56 5.44l.94 2.06.94-2.06 2.06-.94-2.06-.94-.94-2.06-.94 2.06-2.06.94zm-11 1L8.5 8.5l.94-2.06 2.06-.94-2.06-.94L8.5 2.5l-.94 2.06-2.06.94zm10 10l.94 2.06.94-2.06 2.06-.94-2.06-.94-.94-2.06-.94 2.06-2.06.94z\"/><path d=\"M17.41 7.96l-1.37-1.37c-.4-.4-.92-.59-1.43-.59-.52 0-1.04.2-1.43.59L10.3 9.45l-7.72 7.72c-.78.78-.78 2.05 0 2.83L4 21.41c.39.39.9.59 1.41.59.51 0 1.02-.2 1.41-.59l7.78-7.78 2.81-2.81c.8-.78.8-2.07 0-2.86zM5.41 20L4 18.59l7.72-7.72 1.47 1.35L5.41 20z\"/>\n",
              "  </svg>\n",
              "      </button>\n",
              "      \n",
              "  <style>\n",
              "    .colab-df-container {\n",
              "      display:flex;\n",
              "      flex-wrap:wrap;\n",
              "      gap: 12px;\n",
              "    }\n",
              "\n",
              "    .colab-df-convert {\n",
              "      background-color: #E8F0FE;\n",
              "      border: none;\n",
              "      border-radius: 50%;\n",
              "      cursor: pointer;\n",
              "      display: none;\n",
              "      fill: #1967D2;\n",
              "      height: 32px;\n",
              "      padding: 0 0 0 0;\n",
              "      width: 32px;\n",
              "    }\n",
              "\n",
              "    .colab-df-convert:hover {\n",
              "      background-color: #E2EBFA;\n",
              "      box-shadow: 0px 1px 2px rgba(60, 64, 67, 0.3), 0px 1px 3px 1px rgba(60, 64, 67, 0.15);\n",
              "      fill: #174EA6;\n",
              "    }\n",
              "\n",
              "    [theme=dark] .colab-df-convert {\n",
              "      background-color: #3B4455;\n",
              "      fill: #D2E3FC;\n",
              "    }\n",
              "\n",
              "    [theme=dark] .colab-df-convert:hover {\n",
              "      background-color: #434B5C;\n",
              "      box-shadow: 0px 1px 3px 1px rgba(0, 0, 0, 0.15);\n",
              "      filter: drop-shadow(0px 1px 2px rgba(0, 0, 0, 0.3));\n",
              "      fill: #FFFFFF;\n",
              "    }\n",
              "  </style>\n",
              "\n",
              "      <script>\n",
              "        const buttonEl =\n",
              "          document.querySelector('#df-1fb16e2a-f312-4f75-8867-81832d1c475e button.colab-df-convert');\n",
              "        buttonEl.style.display =\n",
              "          google.colab.kernel.accessAllowed ? 'block' : 'none';\n",
              "\n",
              "        async function convertToInteractive(key) {\n",
              "          const element = document.querySelector('#df-1fb16e2a-f312-4f75-8867-81832d1c475e');\n",
              "          const dataTable =\n",
              "            await google.colab.kernel.invokeFunction('convertToInteractive',\n",
              "                                                     [key], {});\n",
              "          if (!dataTable) return;\n",
              "\n",
              "          const docLinkHtml = 'Like what you see? Visit the ' +\n",
              "            '<a target=\"_blank\" href=https://colab.research.google.com/notebooks/data_table.ipynb>data table notebook</a>'\n",
              "            + ' to learn more about interactive tables.';\n",
              "          element.innerHTML = '';\n",
              "          dataTable['output_type'] = 'display_data';\n",
              "          await google.colab.output.renderOutput(dataTable, element);\n",
              "          const docLink = document.createElement('div');\n",
              "          docLink.innerHTML = docLinkHtml;\n",
              "          element.appendChild(docLink);\n",
              "        }\n",
              "      </script>\n",
              "    </div>\n",
              "  </div>\n",
              "  "
            ]
          },
          "metadata": {},
          "execution_count": 831
        }
      ]
    },
    {
      "cell_type": "markdown",
      "source": [
        "# Feature \"Area\""
      ],
      "metadata": {
        "id": "WaTJJDakKgKB"
      }
    },
    {
      "cell_type": "code",
      "source": [
        "df['AREA'].isnull().sum()"
      ],
      "metadata": {
        "colab": {
          "base_uri": "https://localhost:8080/"
        },
        "id": "5LXuEUO59UYJ",
        "outputId": "819ccbdf-1815-4226-ceff-61466ddce472"
      },
      "execution_count": 832,
      "outputs": [
        {
          "output_type": "execute_result",
          "data": {
            "text/plain": [
              "0"
            ]
          },
          "metadata": {},
          "execution_count": 832
        }
      ]
    },
    {
      "cell_type": "code",
      "source": [
        "df['AREA'].value_counts()"
      ],
      "metadata": {
        "colab": {
          "base_uri": "https://localhost:8080/"
        },
        "id": "erRBecLsBQ_n",
        "outputId": "e9a420c8-882a-4ec3-8e9f-1c23e3f5acfb"
      },
      "execution_count": 833,
      "outputs": [
        {
          "output_type": "execute_result",
          "data": {
            "text/plain": [
              "Chrompet      1681\n",
              "Karapakkam    1363\n",
              "KK Nagar       996\n",
              "Velachery      979\n",
              "Anna Nagar     783\n",
              "Adyar          773\n",
              "T Nagar        496\n",
              "Chrompt          9\n",
              "Chrmpet          6\n",
              "Chormpet         6\n",
              "TNagar           5\n",
              "Karapakam        3\n",
              "Ana Nagar        3\n",
              "Velchery         2\n",
              "Ann Nagar        2\n",
              "Adyr             1\n",
              "KKNagar          1\n",
              "Name: AREA, dtype: int64"
            ]
          },
          "metadata": {},
          "execution_count": 833
        }
      ]
    },
    {
      "cell_type": "code",
      "source": [
        "df['AREA'].replace({'Chrompet':'Chrompet','Chrompt':'Chrompet','Chrmpet':'Chrompet','Chormpet':'Chrompet','Karapakkam':'Karapakkam','Karapakam':'Karapakkam','KK Nagar':'KK Nagar','KKNagar':'KK Nagar','Velachery':'Velachery','Velchery':'Velachery','Anna Nagar':'Anna Nagar','Ana Nagar':'Anna Nagar','Ann Nagar':'Anna Nagar','Adyar':'Adyar','Adyr':'Adyar','T Nagar':'T Nagar','TNagar':'T Nagar'},inplace=True)\n"
      ],
      "metadata": {
        "id": "zGclYjglfUzX"
      },
      "execution_count": 834,
      "outputs": []
    },
    {
      "cell_type": "code",
      "source": [
        "df['AREA'].value_counts().plot.bar()"
      ],
      "metadata": {
        "colab": {
          "base_uri": "https://localhost:8080/",
          "height": 335
        },
        "id": "N0vu0CB1mZAR",
        "outputId": "bcc3af6d-2989-48cb-d9a8-7fe1a75ec6b0"
      },
      "execution_count": 835,
      "outputs": [
        {
          "output_type": "execute_result",
          "data": {
            "text/plain": [
              "<matplotlib.axes._subplots.AxesSubplot at 0x7fc2ba5103d0>"
            ]
          },
          "metadata": {},
          "execution_count": 835
        },
        {
          "output_type": "display_data",
          "data": {
            "text/plain": [
              "<Figure size 432x288 with 1 Axes>"
            ],
            "image/png": "[encoded data removed]"
          },
          "metadata": {
            "needs_background": "light"
          }
        }
      ]
    },
    {
      "cell_type": "code",
      "source": [
        "# Interpretation of the above plot.\n",
        "#   we have plotted the bar plot for the frequency of values under each name.\n",
        "#   we see that the T Nagar has the lowest frequency and the chrompet\n",
        "#   has the highest frequency that is the houses sold as per the data."
      ],
      "metadata": {
        "id": "VBcO-9ADsyX-"
      },
      "execution_count": 836,
      "outputs": []
    },
    {
      "cell_type": "markdown",
      "source": [
        ""
      ],
      "metadata": {
        "id": "gdN6a1ARrp0Q"
      }
    },
    {
      "cell_type": "code",
      "source": [
        "df.groupby(['AREA'])['SALES_PRICE'].mean().sort_values(ascending=True).plot.bar()"
      ],
      "metadata": {
        "colab": {
          "base_uri": "https://localhost:8080/",
          "height": 360
        },
        "id": "Mz0mRLxUmxbo",
        "outputId": "7815d9d6-a2b6-49bf-cf57-2e2f61d5cc43"
      },
      "execution_count": 837,
      "outputs": [
        {
          "output_type": "execute_result",
          "data": {
            "text/plain": [
              "<matplotlib.axes._subplots.AxesSubplot at 0x7fc2b8f139d0>"
            ]
          },
          "metadata": {},
          "execution_count": 837
        },
        {
          "output_type": "display_data",
          "data": {
            "text/plain": [
              "<Figure size 432x288 with 1 Axes>"
            ],
            "image/png": "[encoded data removed]"
          },
          "metadata": {
            "needs_background": "light"
          }
        }
      ]
    },
    {
      "cell_type": "code",
      "source": [
        "# Interpretation of the above plot.\n",
        "    # we have plotted a bar char with value sorted ascending, comparing \n",
        "    # to sales price and we have understood that the T nagar pricing is very high,\n",
        "    # though the houses sold is less. \n",
        "    # Chrompet sales is in the lead with a moderate sales price \n",
        "    # intresting fact is that the Adyar houses pricing are less and yet the sales is least.\n",
        "    # we also see a linear relationship, sales wise in the data, so we will be lable encoding to retain the order."
      ],
      "metadata": {
        "id": "TrEp40IftdyP"
      },
      "execution_count": 838,
      "outputs": []
    },
    {
      "cell_type": "code",
      "source": [
        "df.AREA.unique()"
      ],
      "metadata": {
        "colab": {
          "base_uri": "https://localhost:8080/"
        },
        "id": "upDRMemNuXwZ",
        "outputId": "51a48a92-ecbf-4d42-bae8-6df2860b2f74"
      },
      "execution_count": 839,
      "outputs": [
        {
          "output_type": "execute_result",
          "data": {
            "text/plain": [
              "array(['Karapakkam', 'Anna Nagar', 'Adyar', 'Velachery', 'Chrompet',\n",
              "       'KK Nagar', 'T Nagar'], dtype=object)"
            ]
          },
          "metadata": {},
          "execution_count": 839
        }
      ]
    },
    {
      "cell_type": "code",
      "source": [
        "Area = {'Karapakkam':0,'Adyar':1,'Chrompet':2,'Velachery':3,'KK Nagar':4,'Anna Nagar':5,'T Nagar':6}"
      ],
      "metadata": {
        "id": "cHZ-Ymvv_JEa"
      },
      "execution_count": 840,
      "outputs": []
    },
    {
      "cell_type": "code",
      "source": [
        "df['AREA'] = df['AREA'].map(Area, df['AREA'])\n",
        "df.AREA.head()"
      ],
      "metadata": {
        "colab": {
          "base_uri": "https://localhost:8080/"
        },
        "id": "eH1G15kqDa2T",
        "outputId": "3dcb9557-8a2a-4f63-861f-cdf544092236"
      },
      "execution_count": 841,
      "outputs": [
        {
          "output_type": "execute_result",
          "data": {
            "text/plain": [
              "0    0\n",
              "1    5\n",
              "2    1\n",
              "3    3\n",
              "4    0\n",
              "Name: AREA, dtype: int64"
            ]
          },
          "metadata": {},
          "execution_count": 841
        }
      ]
    },
    {
      "cell_type": "markdown",
      "source": [
        "# Fearure \"INT_SQFT\""
      ],
      "metadata": {
        "id": "yGl5cGGLKpHM"
      }
    },
    {
      "cell_type": "code",
      "source": [
        "df.INT_SQFT.isnull().sum()"
      ],
      "metadata": {
        "colab": {
          "base_uri": "https://localhost:8080/"
        },
        "id": "gmTdBJtzK0Wp",
        "outputId": "ce22dbbf-9c21-46f2-df73-95f3436d2016"
      },
      "execution_count": 842,
      "outputs": [
        {
          "output_type": "execute_result",
          "data": {
            "text/plain": [
              "0"
            ]
          },
          "metadata": {},
          "execution_count": 842
        }
      ]
    },
    {
      "cell_type": "code",
      "source": [
        "df['INT_SQFT'].dtype"
      ],
      "metadata": {
        "colab": {
          "base_uri": "https://localhost:8080/"
        },
        "id": "oMMO-PRzpRH3",
        "outputId": "43b8c8b4-ce3d-4cf9-c5e6-95cb1955fe40"
      },
      "execution_count": 843,
      "outputs": [
        {
          "output_type": "execute_result",
          "data": {
            "text/plain": [
              "dtype('int64')"
            ]
          },
          "metadata": {},
          "execution_count": 843
        }
      ]
    },
    {
      "cell_type": "code",
      "source": [
        "df['INT_SQFT'].describe()"
      ],
      "metadata": {
        "colab": {
          "base_uri": "https://localhost:8080/"
        },
        "id": "-2-Dx6niqBT0",
        "outputId": "025d2fef-36df-4fbf-dec0-880e88cc52d9"
      },
      "execution_count": 844,
      "outputs": [
        {
          "output_type": "execute_result",
          "data": {
            "text/plain": [
              "count    7109.000000\n",
              "mean     1382.073006\n",
              "std       457.410902\n",
              "min       500.000000\n",
              "25%       993.000000\n",
              "50%      1373.000000\n",
              "75%      1744.000000\n",
              "max      2500.000000\n",
              "Name: INT_SQFT, dtype: float64"
            ]
          },
          "metadata": {},
          "execution_count": 844
        }
      ]
    },
    {
      "cell_type": "code",
      "source": [
        "df.boxplot(column = 'INT_SQFT')"
      ],
      "metadata": {
        "colab": {
          "base_uri": "https://localhost:8080/",
          "height": 283
        },
        "id": "dudAeALNsCWw",
        "outputId": "915fb0b4-19bb-4fdf-9fcc-e98d41b25690"
      },
      "execution_count": 845,
      "outputs": [
        {
          "output_type": "execute_result",
          "data": {
            "text/plain": [
              "<matplotlib.axes._subplots.AxesSubplot at 0x7fc2b68c1ed0>"
            ]
          },
          "metadata": {},
          "execution_count": 845
        },
        {
          "output_type": "display_data",
          "data": {
            "text/plain": [
              "<Figure size 432x288 with 1 Axes>"
            ],
            "image/png": "[encoded data removed]"
          },
          "metadata": {
            "needs_background": "light"
          }
        }
      ]
    },
    {
      "cell_type": "code",
      "source": [
        "# no outliers in the data."
      ],
      "metadata": {
        "id": "Jxg_uFxzs7WX"
      },
      "execution_count": 846,
      "outputs": []
    },
    {
      "cell_type": "code",
      "source": [
        "df.hist(column = ['INT_SQFT'])"
      ],
      "metadata": {
        "colab": {
          "base_uri": "https://localhost:8080/",
          "height": 316
        },
        "id": "JnjoRVH5tFoI",
        "outputId": "b3728b67-c647-4961-ce6c-bfbad0d3aeab"
      },
      "execution_count": 847,
      "outputs": [
        {
          "output_type": "execute_result",
          "data": {
            "text/plain": [
              "array([[<matplotlib.axes._subplots.AxesSubplot object at 0x7fc2b8f0cf10>]],\n",
              "      dtype=object)"
            ]
          },
          "metadata": {},
          "execution_count": 847
        },
        {
          "output_type": "display_data",
          "data": {
            "text/plain": [
              "<Figure size 432x288 with 1 Axes>"
            ],
            "image/png": "[encoded data removed]"
          },
          "metadata": {
            "needs_background": "light"
          }
        }
      ]
    },
    {
      "cell_type": "code",
      "source": [
        "# we see a normal bell shaped curve.\n",
        "# this shows that the most of the houses in the data are 1300 sqft at an average."
      ],
      "metadata": {
        "id": "m7LWL0OluCv5"
      },
      "execution_count": 848,
      "outputs": []
    },
    {
      "cell_type": "code",
      "source": [
        "df.plot.scatter('INT_SQFT', 'SALES_PRICE')"
      ],
      "metadata": {
        "colab": {
          "base_uri": "https://localhost:8080/",
          "height": 308
        },
        "id": "hU1UnuW1u6wY",
        "outputId": "93ce3158-365c-4ce3-8274-003dd0e68426"
      },
      "execution_count": 849,
      "outputs": [
        {
          "output_type": "execute_result",
          "data": {
            "text/plain": [
              "<matplotlib.axes._subplots.AxesSubplot at 0x7fc2b77ea050>"
            ]
          },
          "metadata": {},
          "execution_count": 849
        },
        {
          "output_type": "display_data",
          "data": {
            "text/plain": [
              "<Figure size 432x288 with 1 Axes>"
            ],
            "image/png": "[encoded data removed]"
          },
          "metadata": {
            "needs_background": "light"
          }
        }
      ]
    },
    {
      "cell_type": "code",
      "source": [
        "# by the plot its clear that there is a linear relationship in the data.\n",
        "# its obvious that for an increasing sqft size, there will be increase in the prize"
      ],
      "metadata": {
        "id": "H58veO9S7sBX"
      },
      "execution_count": 850,
      "outputs": []
    },
    {
      "cell_type": "markdown",
      "source": [
        "# Fearure \"DATE_SALE\""
      ],
      "metadata": {
        "id": "4d4jO5gQ9BpJ"
      }
    },
    {
      "cell_type": "code",
      "source": [
        "df.DATE_SALE.dtype"
      ],
      "metadata": {
        "id": "fuMI9HPP9PE2",
        "colab": {
          "base_uri": "https://localhost:8080/"
        },
        "outputId": "d654ce5f-be1d-407d-fe5f-a7c0ad5d4ea3"
      },
      "execution_count": 851,
      "outputs": [
        {
          "output_type": "execute_result",
          "data": {
            "text/plain": [
              "dtype('O')"
            ]
          },
          "metadata": {},
          "execution_count": 851
        }
      ]
    },
    {
      "cell_type": "code",
      "source": [
        "df.DATE_SALE.isnull().sum()"
      ],
      "metadata": {
        "colab": {
          "base_uri": "https://localhost:8080/"
        },
        "id": "vyp3LUCLjyMl",
        "outputId": "22fe3009-3972-48d5-e01d-a5e152ad5d31"
      },
      "execution_count": 852,
      "outputs": [
        {
          "output_type": "execute_result",
          "data": {
            "text/plain": [
              "0"
            ]
          },
          "metadata": {},
          "execution_count": 852
        }
      ]
    },
    {
      "cell_type": "code",
      "source": [
        "df.DATE_SALE = pd.to_datetime(df.DATE_SALE)\n",
        "df.DATE_SALE.dtype"
      ],
      "metadata": {
        "colab": {
          "base_uri": "https://localhost:8080/"
        },
        "id": "_q6nxHfQkCnr",
        "outputId": "384f050f-8eb0-4836-c291-eadd63efe4f8"
      },
      "execution_count": 853,
      "outputs": [
        {
          "output_type": "execute_result",
          "data": {
            "text/plain": [
              "dtype('<M8[ns]')"
            ]
          },
          "metadata": {},
          "execution_count": 853
        }
      ]
    },
    {
      "cell_type": "code",
      "source": [
        "df['Sale Year'] = pd.DatetimeIndex(df.DATE_SALE).year\n",
        "df.info()"
      ],
      "metadata": {
        "colab": {
          "base_uri": "https://localhost:8080/"
        },
        "id": "AlS6Eo8GwBaH",
        "outputId": "e41b1868-c7b5-476d-c8e8-907cb521152a"
      },
      "execution_count": 854,
      "outputs": [
        {
          "output_type": "stream",
          "name": "stdout",
          "text": [
            "<class 'pandas.core.frame.DataFrame'>\n",
            "RangeIndex: 7109 entries, 0 to 7108\n",
            "Data columns (total 22 columns):\n",
            " #   Column         Non-Null Count  Dtype         \n",
            "---  ------         --------------  -----         \n",
            " 0   AREA           7109 non-null   int64         \n",
            " 1   INT_SQFT       7109 non-null   int64         \n",
            " 2   DATE_SALE      7109 non-null   datetime64[ns]\n",
            " 3   DIST_MAINROAD  7109 non-null   int64         \n",
            " 4   N_BEDROOM      7108 non-null   float64       \n",
            " 5   N_BATHROOM     7104 non-null   float64       \n",
            " 6   N_ROOM         7109 non-null   int64         \n",
            " 7   SALE_COND      7109 non-null   object        \n",
            " 8   PARK_FACIL     7109 non-null   object        \n",
            " 9   DATE_BUILD     7109 non-null   object        \n",
            " 10  BUILDTYPE      7109 non-null   object        \n",
            " 11  UTILITY_AVAIL  7109 non-null   object        \n",
            " 12  STREET         7109 non-null   object        \n",
            " 13  MZZONE         7109 non-null   object        \n",
            " 14  QS_ROOMS       7109 non-null   float64       \n",
            " 15  QS_BATHROOM    7109 non-null   float64       \n",
            " 16  QS_BEDROOM     7109 non-null   float64       \n",
            " 17  QS_OVERALL     7061 non-null   float64       \n",
            " 18  REG_FEE        7109 non-null   int64         \n",
            " 19  COMMIS         7109 non-null   int64         \n",
            " 20  SALES_PRICE    7109 non-null   int64         \n",
            " 21  Sale Year      7109 non-null   int64         \n",
            "dtypes: datetime64[ns](1), float64(6), int64(8), object(7)\n",
            "memory usage: 1.2+ MB\n"
          ]
        }
      ]
    },
    {
      "cell_type": "code",
      "source": [
        "df['Sale Year'].value_counts().sort_index(ascending=True).plot.bar()"
      ],
      "metadata": {
        "colab": {
          "base_uri": "https://localhost:8080/",
          "height": 300
        },
        "id": "ctR98Sva132r",
        "outputId": "857371bb-5060-4c27-f69a-b1cf2830cc63"
      },
      "execution_count": 855,
      "outputs": [
        {
          "output_type": "execute_result",
          "data": {
            "text/plain": [
              "<matplotlib.axes._subplots.AxesSubplot at 0x7fc2b776b050>"
            ]
          },
          "metadata": {},
          "execution_count": 855
        },
        {
          "output_type": "display_data",
          "data": {
            "text/plain": [
              "<Figure size 432x288 with 1 Axes>"
            ],
            "image/png": "[encoded data removed]"
          },
          "metadata": {
            "needs_background": "light"
          }
        }
      ]
    },
    {
      "cell_type": "code",
      "source": [
        "# Interpretation of the above plot\n",
        "# we can see that the the 2015 sales has droped drastically and also the best sales was on 2010 for the houses.\n",
        "# the data is normally distributed among the years though."
      ],
      "metadata": {
        "id": "Dc-mv2f_7D4D"
      },
      "execution_count": 856,
      "outputs": []
    },
    {
      "cell_type": "code",
      "source": [
        "df.groupby(['Sale Year'])['SALES_PRICE'].mean().plot.bar()"
      ],
      "metadata": {
        "colab": {
          "base_uri": "https://localhost:8080/",
          "height": 323
        },
        "id": "9MUpSmxN1f1k",
        "outputId": "bbbc8ea1-607b-40a1-bfd0-c9ee1fabb01a"
      },
      "execution_count": 857,
      "outputs": [
        {
          "output_type": "execute_result",
          "data": {
            "text/plain": [
              "<matplotlib.axes._subplots.AxesSubplot at 0x7fc2b6747a10>"
            ]
          },
          "metadata": {},
          "execution_count": 857
        },
        {
          "output_type": "display_data",
          "data": {
            "text/plain": [
              "<Figure size 432x288 with 1 Axes>"
            ],
            "image/png": "[encoded data removed]"
          },
          "metadata": {
            "needs_background": "light"
          }
        }
      ]
    },
    {
      "cell_type": "code",
      "source": [
        "# we can see the relation ship is uniform among all the years not much difference in the prices\n",
        "# eventhough the price did not have a big change we can use it to find the age."
      ],
      "metadata": {
        "id": "NWA8k2JMC5jP"
      },
      "execution_count": 858,
      "outputs": []
    },
    {
      "cell_type": "code",
      "source": [
        "df.columns"
      ],
      "metadata": {
        "colab": {
          "base_uri": "https://localhost:8080/"
        },
        "id": "ZfrKxGtLFH6_",
        "outputId": "08b5274d-4fbf-4b5b-9fa3-66bd3aa4c2c3"
      },
      "execution_count": 859,
      "outputs": [
        {
          "output_type": "execute_result",
          "data": {
            "text/plain": [
              "Index(['AREA', 'INT_SQFT', 'DATE_SALE', 'DIST_MAINROAD', 'N_BEDROOM',\n",
              "       'N_BATHROOM', 'N_ROOM', 'SALE_COND', 'PARK_FACIL', 'DATE_BUILD',\n",
              "       'BUILDTYPE', 'UTILITY_AVAIL', 'STREET', 'MZZONE', 'QS_ROOMS',\n",
              "       'QS_BATHROOM', 'QS_BEDROOM', 'QS_OVERALL', 'REG_FEE', 'COMMIS',\n",
              "       'SALES_PRICE', 'Sale Year'],\n",
              "      dtype='object')"
            ]
          },
          "metadata": {},
          "execution_count": 859
        }
      ]
    },
    {
      "cell_type": "markdown",
      "source": [
        "# Fearure \"DIST_MAINROAD\""
      ],
      "metadata": {
        "id": "rtmy4n6GFRbD"
      }
    },
    {
      "cell_type": "code",
      "source": [
        "df.DIST_MAINROAD.isnull().sum()"
      ],
      "metadata": {
        "colab": {
          "base_uri": "https://localhost:8080/"
        },
        "id": "Ma_OXWLXFYZm",
        "outputId": "28a97e29-e7ac-482c-aaf0-82a679ce8562"
      },
      "execution_count": 860,
      "outputs": [
        {
          "output_type": "execute_result",
          "data": {
            "text/plain": [
              "0"
            ]
          },
          "metadata": {},
          "execution_count": 860
        }
      ]
    },
    {
      "cell_type": "code",
      "source": [
        "df.DIST_MAINROAD.dtype"
      ],
      "metadata": {
        "colab": {
          "base_uri": "https://localhost:8080/"
        },
        "id": "mPHHSEnTL1IY",
        "outputId": "7cc6e06a-b4fd-492f-975b-f36898f1bab4"
      },
      "execution_count": 861,
      "outputs": [
        {
          "output_type": "execute_result",
          "data": {
            "text/plain": [
              "dtype('int64')"
            ]
          },
          "metadata": {},
          "execution_count": 861
        }
      ]
    },
    {
      "cell_type": "code",
      "source": [
        "df.DIST_MAINROAD.describe()"
      ],
      "metadata": {
        "colab": {
          "base_uri": "https://localhost:8080/"
        },
        "id": "KnyvbYHQMuNu",
        "outputId": "5ed55426-234d-43fa-effb-c73fd1a59006"
      },
      "execution_count": 862,
      "outputs": [
        {
          "output_type": "execute_result",
          "data": {
            "text/plain": [
              "count    7109.000000\n",
              "mean       99.603179\n",
              "std        57.403110\n",
              "min         0.000000\n",
              "25%        50.000000\n",
              "50%        99.000000\n",
              "75%       148.000000\n",
              "max       200.000000\n",
              "Name: DIST_MAINROAD, dtype: float64"
            ]
          },
          "metadata": {},
          "execution_count": 862
        }
      ]
    },
    {
      "cell_type": "code",
      "source": [
        "df.boxplot(column='DIST_MAINROAD')"
      ],
      "metadata": {
        "colab": {
          "base_uri": "https://localhost:8080/",
          "height": 283
        },
        "id": "93nRPJmLM4nd",
        "outputId": "f2528edc-5fa5-40f7-cee6-8e75024602aa"
      },
      "execution_count": 863,
      "outputs": [
        {
          "output_type": "execute_result",
          "data": {
            "text/plain": [
              "<matplotlib.axes._subplots.AxesSubplot at 0x7fc2b66f5b10>"
            ]
          },
          "metadata": {},
          "execution_count": 863
        },
        {
          "output_type": "display_data",
          "data": {
            "text/plain": [
              "<Figure size 432x288 with 1 Axes>"
            ],
            "image/png": "[encoded data removed]"
          },
          "metadata": {
            "needs_background": "light"
          }
        }
      ]
    },
    {
      "cell_type": "code",
      "source": [
        "# its clear there is no outliers\n",
        "# the median of the distance is 100 as the boxplot indicates."
      ],
      "metadata": {
        "id": "rCg_RmWbNJYI"
      },
      "execution_count": 864,
      "outputs": []
    },
    {
      "cell_type": "code",
      "source": [
        "df.plot.scatter(x='DIST_MAINROAD',y='SALES_PRICE')"
      ],
      "metadata": {
        "colab": {
          "base_uri": "https://localhost:8080/",
          "height": 308
        },
        "id": "CMuSBitPcOAC",
        "outputId": "3f016789-aee3-4adc-c382-31a53909ca48"
      },
      "execution_count": 865,
      "outputs": [
        {
          "output_type": "execute_result",
          "data": {
            "text/plain": [
              "<matplotlib.axes._subplots.AxesSubplot at 0x7fc2b6cfeb50>"
            ]
          },
          "metadata": {},
          "execution_count": 865
        },
        {
          "output_type": "display_data",
          "data": {
            "text/plain": [
              "<Figure size 432x288 with 1 Axes>"
            ],
            "image/png": "[encoded data removed]"
          },
          "metadata": {
            "needs_background": "light"
          }
        }
      ]
    },
    {
      "cell_type": "code",
      "source": [
        "# on the relationship plot we can understand that there is not much difference in the prices.\n",
        "# Even though the distance is more or less the sales price has not changed a lot.\n",
        "# since the distribution has been uniform we will be droping this column."
      ],
      "metadata": {
        "id": "U7Bqi_mlyPkA"
      },
      "execution_count": 866,
      "outputs": []
    },
    {
      "cell_type": "code",
      "source": [
        "df.drop('DIST_MAINROAD',axis =1, inplace = True)\n",
        "df.columns"
      ],
      "metadata": {
        "colab": {
          "base_uri": "https://localhost:8080/"
        },
        "id": "SGV7rFX__qp0",
        "outputId": "363f948f-6062-46c1-8c23-bdb5064af073"
      },
      "execution_count": 867,
      "outputs": [
        {
          "output_type": "execute_result",
          "data": {
            "text/plain": [
              "Index(['AREA', 'INT_SQFT', 'DATE_SALE', 'N_BEDROOM', 'N_BATHROOM', 'N_ROOM',\n",
              "       'SALE_COND', 'PARK_FACIL', 'DATE_BUILD', 'BUILDTYPE', 'UTILITY_AVAIL',\n",
              "       'STREET', 'MZZONE', 'QS_ROOMS', 'QS_BATHROOM', 'QS_BEDROOM',\n",
              "       'QS_OVERALL', 'REG_FEE', 'COMMIS', 'SALES_PRICE', 'Sale Year'],\n",
              "      dtype='object')"
            ]
          },
          "metadata": {},
          "execution_count": 867
        }
      ]
    },
    {
      "cell_type": "markdown",
      "source": [
        "# Feature 'N_BEDROOM'"
      ],
      "metadata": {
        "id": "EMkNQQMnAM2h"
      }
    },
    {
      "cell_type": "code",
      "source": [
        "df.N_BEDROOM.isnull().sum()"
      ],
      "metadata": {
        "colab": {
          "base_uri": "https://localhost:8080/"
        },
        "id": "QLy5J4aEAXaD",
        "outputId": "26413172-b60f-4960-86ad-b3ec653a9167"
      },
      "execution_count": 868,
      "outputs": [
        {
          "output_type": "execute_result",
          "data": {
            "text/plain": [
              "1"
            ]
          },
          "metadata": {},
          "execution_count": 868
        }
      ]
    },
    {
      "cell_type": "code",
      "source": [
        "df.N_BEDROOM.unique()"
      ],
      "metadata": {
        "colab": {
          "base_uri": "https://localhost:8080/"
        },
        "id": "2Bs_K0NwBa3h",
        "outputId": "d19d0a8f-2e73-4eb7-cb32-9f84dc26f997"
      },
      "execution_count": 869,
      "outputs": [
        {
          "output_type": "execute_result",
          "data": {
            "text/plain": [
              "array([ 1.,  2.,  3.,  4., nan])"
            ]
          },
          "metadata": {},
          "execution_count": 869
        }
      ]
    },
    {
      "cell_type": "code",
      "source": [
        "df['N_BEDROOM'].fillna(df.N_BEDROOM.mode()[0], inplace =True)\n",
        "df.N_BEDROOM.isnull().sum()"
      ],
      "metadata": {
        "colab": {
          "base_uri": "https://localhost:8080/"
        },
        "id": "zSx3oMfOGRcA",
        "outputId": "b58b7080-c1d6-4ef4-9c65-6bf1170a88b5"
      },
      "execution_count": 870,
      "outputs": [
        {
          "output_type": "execute_result",
          "data": {
            "text/plain": [
              "0"
            ]
          },
          "metadata": {},
          "execution_count": 870
        }
      ]
    },
    {
      "cell_type": "code",
      "source": [
        "df.N_BEDROOM.astype(int)"
      ],
      "metadata": {
        "colab": {
          "base_uri": "https://localhost:8080/"
        },
        "id": "7_yKZ9cxHjuG",
        "outputId": "c4ebe3c2-d545-4e63-9d2c-bd6c5663a6a7"
      },
      "execution_count": 871,
      "outputs": [
        {
          "output_type": "execute_result",
          "data": {
            "text/plain": [
              "0       1\n",
              "1       2\n",
              "2       1\n",
              "3       3\n",
              "4       1\n",
              "       ..\n",
              "7104    1\n",
              "7105    3\n",
              "7106    2\n",
              "7107    1\n",
              "7108    3\n",
              "Name: N_BEDROOM, Length: 7109, dtype: int64"
            ]
          },
          "metadata": {},
          "execution_count": 871
        }
      ]
    },
    {
      "cell_type": "code",
      "source": [
        "df['N_BEDROOM'].value_counts().plot.bar()"
      ],
      "metadata": {
        "colab": {
          "base_uri": "https://localhost:8080/",
          "height": 288
        },
        "id": "GKz-ALT3IEqn",
        "outputId": "4d7dc4d8-0c80-42fa-a6ec-7f87159519fb"
      },
      "execution_count": 872,
      "outputs": [
        {
          "output_type": "execute_result",
          "data": {
            "text/plain": [
              "<matplotlib.axes._subplots.AxesSubplot at 0x7fc2b65e1350>"
            ]
          },
          "metadata": {},
          "execution_count": 872
        },
        {
          "output_type": "display_data",
          "data": {
            "text/plain": [
              "<Figure size 432x288 with 1 Axes>"
            ],
            "image/png": "[encoded data removed]"
          },
          "metadata": {
            "needs_background": "light"
          }
        }
      ]
    },
    {
      "cell_type": "code",
      "source": [
        "# the data is right Skewed and we can clearly see the rooms that have 1 bed room is more."
      ],
      "metadata": {
        "id": "YQTIqhwbINFv"
      },
      "execution_count": 873,
      "outputs": []
    },
    {
      "cell_type": "code",
      "source": [
        "df.groupby('N_BEDROOM')['SALES_PRICE'].mean().sort_values(ascending=True).plot.bar()"
      ],
      "metadata": {
        "colab": {
          "base_uri": "https://localhost:8080/",
          "height": 314
        },
        "id": "zeVG0jO5BoCf",
        "outputId": "79d04182-21c5-4cf8-de83-b70700505774"
      },
      "execution_count": 874,
      "outputs": [
        {
          "output_type": "execute_result",
          "data": {
            "text/plain": [
              "<matplotlib.axes._subplots.AxesSubplot at 0x7fc2b6550b10>"
            ]
          },
          "metadata": {},
          "execution_count": 874
        },
        {
          "output_type": "display_data",
          "data": {
            "text/plain": [
              "<Figure size 432x288 with 1 Axes>"
            ],
            "image/png": "[encoded data removed]"
          },
          "metadata": {
            "needs_background": "light"
          }
        }
      ]
    },
    {
      "cell_type": "code",
      "source": [
        "# its clear there is a linear relationship.\n",
        "# the obvious thing is, as the rooms increase there will be increase in the price."
      ],
      "metadata": {
        "id": "D-uKDbEwCOgT"
      },
      "execution_count": 875,
      "outputs": []
    },
    {
      "cell_type": "code",
      "source": [
        "df.columns"
      ],
      "metadata": {
        "colab": {
          "base_uri": "https://localhost:8080/"
        },
        "id": "aOYRgMSCLsL9",
        "outputId": "fccce612-f098-4475-d72e-e986ee4c989f"
      },
      "execution_count": 876,
      "outputs": [
        {
          "output_type": "execute_result",
          "data": {
            "text/plain": [
              "Index(['AREA', 'INT_SQFT', 'DATE_SALE', 'N_BEDROOM', 'N_BATHROOM', 'N_ROOM',\n",
              "       'SALE_COND', 'PARK_FACIL', 'DATE_BUILD', 'BUILDTYPE', 'UTILITY_AVAIL',\n",
              "       'STREET', 'MZZONE', 'QS_ROOMS', 'QS_BATHROOM', 'QS_BEDROOM',\n",
              "       'QS_OVERALL', 'REG_FEE', 'COMMIS', 'SALES_PRICE', 'Sale Year'],\n",
              "      dtype='object')"
            ]
          },
          "metadata": {},
          "execution_count": 876
        }
      ]
    },
    {
      "cell_type": "markdown",
      "source": [
        "# Feature 'N_BATHROOM'"
      ],
      "metadata": {
        "id": "TFYJEOZHLrWX"
      }
    },
    {
      "cell_type": "code",
      "source": [
        "df.N_BATHROOM.isnull().sum()"
      ],
      "metadata": {
        "colab": {
          "base_uri": "https://localhost:8080/"
        },
        "id": "f_qaOro7L01k",
        "outputId": "2836f59b-7c5f-47ab-f474-3e676c29d0ab"
      },
      "execution_count": 877,
      "outputs": [
        {
          "output_type": "execute_result",
          "data": {
            "text/plain": [
              "5"
            ]
          },
          "metadata": {},
          "execution_count": 877
        }
      ]
    },
    {
      "cell_type": "code",
      "source": [
        "df['N_BATHROOM'].fillna(df['N_BATHROOM'].mode()[0],inplace = True)\n",
        "df['N_BATHROOM'].unique()"
      ],
      "metadata": {
        "colab": {
          "base_uri": "https://localhost:8080/"
        },
        "id": "XHwiJwlbMMN8",
        "outputId": "dfe17b4d-45be-48e1-e002-38ee10809a47"
      },
      "execution_count": 878,
      "outputs": [
        {
          "output_type": "execute_result",
          "data": {
            "text/plain": [
              "array([1., 2.])"
            ]
          },
          "metadata": {},
          "execution_count": 878
        }
      ]
    },
    {
      "cell_type": "code",
      "source": [
        "df.N_BATHROOM.astype(int)"
      ],
      "metadata": {
        "colab": {
          "base_uri": "https://localhost:8080/"
        },
        "id": "pTrhEBaWNFyH",
        "outputId": "b9255b8f-0038-4a14-d0a2-1ac5994f944e"
      },
      "execution_count": 879,
      "outputs": [
        {
          "output_type": "execute_result",
          "data": {
            "text/plain": [
              "0       1\n",
              "1       1\n",
              "2       1\n",
              "3       2\n",
              "4       1\n",
              "       ..\n",
              "7104    1\n",
              "7105    2\n",
              "7106    1\n",
              "7107    1\n",
              "7108    2\n",
              "Name: N_BATHROOM, Length: 7109, dtype: int64"
            ]
          },
          "metadata": {},
          "execution_count": 879
        }
      ]
    },
    {
      "cell_type": "code",
      "source": [
        "df.N_BATHROOM.value_counts().plot.bar()"
      ],
      "metadata": {
        "colab": {
          "base_uri": "https://localhost:8080/",
          "height": 288
        },
        "id": "_Xd49CigNWkV",
        "outputId": "15d5946b-c547-4408-ede7-9525cabbe752"
      },
      "execution_count": 880,
      "outputs": [
        {
          "output_type": "execute_result",
          "data": {
            "text/plain": [
              "<matplotlib.axes._subplots.AxesSubplot at 0x7fc2b64d2690>"
            ]
          },
          "metadata": {},
          "execution_count": 880
        },
        {
          "output_type": "display_data",
          "data": {
            "text/plain": [
              "<Figure size 432x288 with 1 Axes>"
            ],
            "image/png": "[encoded data removed]"
          },
          "metadata": {
            "needs_background": "light"
          }
        }
      ]
    },
    {
      "cell_type": "code",
      "source": [
        "# as we see that the most of the houses have one bath room.\n",
        "# we still see 30% of the houses having 2 bathrooms which is intresting. "
      ],
      "metadata": {
        "id": "Xuu16_F5NyXN"
      },
      "execution_count": 881,
      "outputs": []
    },
    {
      "cell_type": "code",
      "source": [
        "df.groupby('N_BATHROOM')['SALES_PRICE'].mean().sort_values(ascending=True).plot.bar()"
      ],
      "metadata": {
        "colab": {
          "base_uri": "https://localhost:8080/",
          "height": 314
        },
        "id": "E3MAyRj0PnLm",
        "outputId": "5ba355bf-68cf-49fa-d12f-b0849aba5482"
      },
      "execution_count": 882,
      "outputs": [
        {
          "output_type": "execute_result",
          "data": {
            "text/plain": [
              "<matplotlib.axes._subplots.AxesSubplot at 0x7fc2b643bcd0>"
            ]
          },
          "metadata": {},
          "execution_count": 882
        },
        {
          "output_type": "display_data",
          "data": {
            "text/plain": [
              "<Figure size 432x288 with 1 Axes>"
            ],
            "image/png": "[encoded data removed]"
          },
          "metadata": {
            "needs_background": "light"
          }
        }
      ]
    },
    {
      "cell_type": "code",
      "source": [
        "# as we see the relationship is in order.\n",
        "# when the bathrooms increase the price also increases.\n",
        "# we are not encoding as the data is already numeric and in order"
      ],
      "metadata": {
        "id": "PzVZJ--ZQHEV"
      },
      "execution_count": 883,
      "outputs": []
    },
    {
      "cell_type": "markdown",
      "source": [
        "# Feature N_ROOM"
      ],
      "metadata": {
        "id": "ukwHw_XFQuUd"
      }
    },
    {
      "cell_type": "code",
      "source": [
        "df.N_ROOM.isnull().sum()"
      ],
      "metadata": {
        "colab": {
          "base_uri": "https://localhost:8080/"
        },
        "id": "MiA6NQ9xQ23L",
        "outputId": "c1c1cf3b-cd5f-46af-96a9-76b0d6b8df79"
      },
      "execution_count": 884,
      "outputs": [
        {
          "output_type": "execute_result",
          "data": {
            "text/plain": [
              "0"
            ]
          },
          "metadata": {},
          "execution_count": 884
        }
      ]
    },
    {
      "cell_type": "code",
      "source": [
        "print(df.N_ROOM.dtype)\n",
        "print(df.N_ROOM.unique())"
      ],
      "metadata": {
        "colab": {
          "base_uri": "https://localhost:8080/"
        },
        "id": "n8e6iUnyRI6D",
        "outputId": "bf5ff20e-62fa-4f6e-c447-b42131ddbd03"
      },
      "execution_count": 885,
      "outputs": [
        {
          "output_type": "stream",
          "name": "stdout",
          "text": [
            "int64\n",
            "[3 5 4 2 6]\n"
          ]
        }
      ]
    },
    {
      "cell_type": "code",
      "source": [
        "import seaborn as sns \n",
        "sns.distplot(df['N_ROOM'])"
      ],
      "metadata": {
        "colab": {
          "base_uri": "https://localhost:8080/",
          "height": 352
        },
        "id": "qKg-zMelRj9K",
        "outputId": "e6f2b86a-12f1-4a89-f430-0fadb5428fc1"
      },
      "execution_count": 886,
      "outputs": [
        {
          "output_type": "stream",
          "name": "stderr",
          "text": [
            "/usr/local/lib/python3.7/dist-packages/seaborn/distributions.py:2619: FutureWarning: `distplot` is a deprecated function and will be removed in a future version. Please adapt your code to use either `displot` (a figure-level function with similar flexibility) or `histplot` (an axes-level function for histograms).\n",
            "  warnings.warn(msg, FutureWarning)\n"
          ]
        },
        {
          "output_type": "execute_result",
          "data": {
            "text/plain": [
              "<matplotlib.axes._subplots.AxesSubplot at 0x7fc2b6415090>"
            ]
          },
          "metadata": {},
          "execution_count": 886
        },
        {
          "output_type": "display_data",
          "data": {
            "text/plain": [
              "<Figure size 432x288 with 1 Axes>"
            ],
            "image/png": "[encoded data removed]"
          },
          "metadata": {
            "needs_background": "light"
          }
        }
      ]
    },
    {
      "cell_type": "code",
      "source": [
        "# the dist is kind of normal but we can see that the 4 rooms houses are the most in the data.\n",
        "# we can eventually suspect if the rooms are inclusive of bathrooms too."
      ],
      "metadata": {
        "id": "-TwvGV8OS0MF"
      },
      "execution_count": 887,
      "outputs": []
    },
    {
      "cell_type": "code",
      "source": [
        "df.groupby('N_ROOM')['SALES_PRICE'].mean().sort_values(ascending=True).plot.bar()"
      ],
      "metadata": {
        "colab": {
          "base_uri": "https://localhost:8080/",
          "height": 305
        },
        "id": "7mdbYh4rVdEM",
        "outputId": "48f4d95b-6b99-4e9e-d1e6-5952f886e4b6"
      },
      "execution_count": 888,
      "outputs": [
        {
          "output_type": "execute_result",
          "data": {
            "text/plain": [
              "<matplotlib.axes._subplots.AxesSubplot at 0x7fc2b6ffddd0>"
            ]
          },
          "metadata": {},
          "execution_count": 888
        },
        {
          "output_type": "display_data",
          "data": {
            "text/plain": [
              "<Figure size 432x288 with 1 Axes>"
            ],
            "image/png": "[encoded data removed]"
          },
          "metadata": {
            "needs_background": "light"
          }
        }
      ]
    },
    {
      "cell_type": "code",
      "source": [
        "# as we saw earlier as the rooms increase the price has increased.\n",
        "# since the order is already maintaind no encoding required.\n",
        "df.columns"
      ],
      "metadata": {
        "colab": {
          "base_uri": "https://localhost:8080/"
        },
        "id": "i_RBYYbpVsIt",
        "outputId": "a31eccf6-b8f9-4000-e82c-6f8f4f773688"
      },
      "execution_count": 889,
      "outputs": [
        {
          "output_type": "execute_result",
          "data": {
            "text/plain": [
              "Index(['AREA', 'INT_SQFT', 'DATE_SALE', 'N_BEDROOM', 'N_BATHROOM', 'N_ROOM',\n",
              "       'SALE_COND', 'PARK_FACIL', 'DATE_BUILD', 'BUILDTYPE', 'UTILITY_AVAIL',\n",
              "       'STREET', 'MZZONE', 'QS_ROOMS', 'QS_BATHROOM', 'QS_BEDROOM',\n",
              "       'QS_OVERALL', 'REG_FEE', 'COMMIS', 'SALES_PRICE', 'Sale Year'],\n",
              "      dtype='object')"
            ]
          },
          "metadata": {},
          "execution_count": 889
        }
      ]
    },
    {
      "cell_type": "markdown",
      "source": [
        "# Feature 'SALE_COND'"
      ],
      "metadata": {
        "id": "e7dCT8zpV76K"
      }
    },
    {
      "cell_type": "code",
      "source": [
        "df.SALE_COND.isnull().sum()\n"
      ],
      "metadata": {
        "colab": {
          "base_uri": "https://localhost:8080/"
        },
        "id": "YGMfXbI4WHka",
        "outputId": "1134d55f-09a4-4066-fa79-61585d89affb"
      },
      "execution_count": 890,
      "outputs": [
        {
          "output_type": "execute_result",
          "data": {
            "text/plain": [
              "0"
            ]
          },
          "metadata": {},
          "execution_count": 890
        }
      ]
    },
    {
      "cell_type": "code",
      "source": [
        "print(df['SALE_COND'].dtype)\n",
        "df['SALE_COND'].unique()"
      ],
      "metadata": {
        "colab": {
          "base_uri": "https://localhost:8080/"
        },
        "id": "7xQFjOwXaFZQ",
        "outputId": "ac5ed97c-bd32-40e7-fa90-d8a41c277d52"
      },
      "execution_count": 891,
      "outputs": [
        {
          "output_type": "stream",
          "name": "stdout",
          "text": [
            "object\n"
          ]
        },
        {
          "output_type": "execute_result",
          "data": {
            "text/plain": [
              "array(['AbNormal', 'Family', 'Partial', 'AdjLand', 'Normal Sale',\n",
              "       'Ab Normal', 'Partiall', 'Adj Land', 'PartiaLl'], dtype=object)"
            ]
          },
          "metadata": {},
          "execution_count": 891
        }
      ]
    },
    {
      "cell_type": "code",
      "source": [
        "ctype = {'AbNormal': 'Abnormal', 'Family':'Family', 'Partial':'Partial', 'AdjLand':'Adjland', 'Normal Sale':'Normal', 'Ab Normal':'Abnormal', 'Partiall':'Partial', 'Adj Land':'Adjland', 'PartiaLl':'Partial'}\n",
        "\n",
        "df['SALE_COND'] = df['SALE_COND'].map(ctype,df['SALE_COND'])\n",
        "df['SALE_COND'].unique()"
      ],
      "metadata": {
        "colab": {
          "base_uri": "https://localhost:8080/"
        },
        "id": "MzI_yBP_aqCj",
        "outputId": "71cc9ac3-f294-4448-fcd6-be47f5502c5f"
      },
      "execution_count": 892,
      "outputs": [
        {
          "output_type": "execute_result",
          "data": {
            "text/plain": [
              "array(['Abnormal', 'Family', 'Partial', 'Adjland', 'Normal'], dtype=object)"
            ]
          },
          "metadata": {},
          "execution_count": 892
        }
      ]
    },
    {
      "cell_type": "code",
      "source": [
        "df.SALE_COND.value_counts().plot.bar()"
      ],
      "metadata": {
        "colab": {
          "base_uri": "https://localhost:8080/",
          "height": 320
        },
        "id": "mvaMk8SexmBQ",
        "outputId": "cccd9cf7-6775-4004-e8aa-fc0a85f9ae4a"
      },
      "execution_count": 893,
      "outputs": [
        {
          "output_type": "execute_result",
          "data": {
            "text/plain": [
              "<matplotlib.axes._subplots.AxesSubplot at 0x7fc2b62897d0>"
            ]
          },
          "metadata": {},
          "execution_count": 893
        },
        {
          "output_type": "display_data",
          "data": {
            "text/plain": [
              "<Figure size 432x288 with 1 Axes>"
            ],
            "image/png": "[encoded data removed]"
          },
          "metadata": {
            "needs_background": "light"
          }
        }
      ]
    },
    {
      "cell_type": "code",
      "source": [
        "# We can see an uniformly distributed data, for all the type of house.\n",
        "# the interpretation would be that the sale has happened nomatter what type of house sale it is."
      ],
      "metadata": {
        "id": "6w9JMRVgyIjA"
      },
      "execution_count": 894,
      "outputs": []
    },
    {
      "cell_type": "code",
      "source": [
        "df.groupby('SALE_COND')['SALES_PRICE'].mean().sort_values(ascending=True).plot.bar()"
      ],
      "metadata": {
        "colab": {
          "base_uri": "https://localhost:8080/",
          "height": 346
        },
        "id": "m7t7JJ1jywQR",
        "outputId": "05d7daf9-63eb-4dcd-97f7-f6ebb5fd5db4"
      },
      "execution_count": 895,
      "outputs": [
        {
          "output_type": "execute_result",
          "data": {
            "text/plain": [
              "<matplotlib.axes._subplots.AxesSubplot at 0x7fc2b6277550>"
            ]
          },
          "metadata": {},
          "execution_count": 895
        },
        {
          "output_type": "display_data",
          "data": {
            "text/plain": [
              "<Figure size 432x288 with 1 Axes>"
            ],
            "image/png": "[encoded data removed]"
          },
          "metadata": {
            "needs_background": "light"
          }
        }
      ]
    },
    {
      "cell_type": "code",
      "source": [
        "# we can clearly intrept that no matter what type of house it is, the price is not affected by it.\n",
        "# when the data's relationship is uniform we can definately remove it as it makes no value.\n",
        "df.drop('SALE_COND',inplace=True, axis=1)\n",
        "df.columns"
      ],
      "metadata": {
        "colab": {
          "base_uri": "https://localhost:8080/"
        },
        "id": "nCsQ8mAvy_3x",
        "outputId": "8378f83e-4a49-40b9-8970-a26382c942d2"
      },
      "execution_count": 896,
      "outputs": [
        {
          "output_type": "execute_result",
          "data": {
            "text/plain": [
              "Index(['AREA', 'INT_SQFT', 'DATE_SALE', 'N_BEDROOM', 'N_BATHROOM', 'N_ROOM',\n",
              "       'PARK_FACIL', 'DATE_BUILD', 'BUILDTYPE', 'UTILITY_AVAIL', 'STREET',\n",
              "       'MZZONE', 'QS_ROOMS', 'QS_BATHROOM', 'QS_BEDROOM', 'QS_OVERALL',\n",
              "       'REG_FEE', 'COMMIS', 'SALES_PRICE', 'Sale Year'],\n",
              "      dtype='object')"
            ]
          },
          "metadata": {},
          "execution_count": 896
        }
      ]
    },
    {
      "cell_type": "markdown",
      "source": [
        "# Feature 'PARK_FACIL'"
      ],
      "metadata": {
        "id": "mqS69qKP0Wl_"
      }
    },
    {
      "cell_type": "code",
      "source": [
        "df.PARK_FACIL.isnull().sum()"
      ],
      "metadata": {
        "colab": {
          "base_uri": "https://localhost:8080/"
        },
        "id": "BFQmjgx2zvHe",
        "outputId": "da0e7f42-35ae-489b-ded4-6a3626760bc7"
      },
      "execution_count": 897,
      "outputs": [
        {
          "output_type": "execute_result",
          "data": {
            "text/plain": [
              "0"
            ]
          },
          "metadata": {},
          "execution_count": 897
        }
      ]
    },
    {
      "cell_type": "code",
      "source": [
        "df.PARK_FACIL.unique()"
      ],
      "metadata": {
        "colab": {
          "base_uri": "https://localhost:8080/"
        },
        "id": "-oY4XBmp0eFP",
        "outputId": "29dc255c-b903-4a6b-aa86-53a67419e7bc"
      },
      "execution_count": 898,
      "outputs": [
        {
          "output_type": "execute_result",
          "data": {
            "text/plain": [
              "array(['Yes', 'No', 'Noo'], dtype=object)"
            ]
          },
          "metadata": {},
          "execution_count": 898
        }
      ]
    },
    {
      "cell_type": "code",
      "source": [
        "df['PARK_FACIL'] = df['PARK_FACIL'].map({'Yes': 1, 'No': 0, 'Noo':0},df['PARK_FACIL'])"
      ],
      "metadata": {
        "id": "5q0g0ZJJ1-Ru"
      },
      "execution_count": 899,
      "outputs": []
    },
    {
      "cell_type": "code",
      "source": [
        "df['PARK_FACIL'].dtype"
      ],
      "metadata": {
        "colab": {
          "base_uri": "https://localhost:8080/"
        },
        "id": "hr-915pb2iLX",
        "outputId": "241b39ad-cece-4a8a-9472-b625850fccc9"
      },
      "execution_count": 900,
      "outputs": [
        {
          "output_type": "execute_result",
          "data": {
            "text/plain": [
              "dtype('int64')"
            ]
          },
          "metadata": {},
          "execution_count": 900
        }
      ]
    },
    {
      "cell_type": "code",
      "source": [
        "df.PARK_FACIL.value_counts().plot.bar()"
      ],
      "metadata": {
        "colab": {
          "base_uri": "https://localhost:8080/",
          "height": 279
        },
        "id": "P5j76dOy25d2",
        "outputId": "4972846b-5664-4a31-ac11-09f69c6178f0"
      },
      "execution_count": 901,
      "outputs": [
        {
          "output_type": "execute_result",
          "data": {
            "text/plain": [
              "<matplotlib.axes._subplots.AxesSubplot at 0x7fc2b617c610>"
            ]
          },
          "metadata": {},
          "execution_count": 901
        },
        {
          "output_type": "display_data",
          "data": {
            "text/plain": [
              "<Figure size 432x288 with 1 Axes>"
            ],
            "image/png": "[encoded data removed]"
          },
          "metadata": {
            "needs_background": "light"
          }
        }
      ]
    },
    {
      "cell_type": "code",
      "source": [
        "# from the above plot we can intrepret that we have equal ammount of data for the house sold with parking and without parking.\n",
        "# we definately see no Skew in the data."
      ],
      "metadata": {
        "id": "V_rOukyl29yY"
      },
      "execution_count": 902,
      "outputs": []
    },
    {
      "cell_type": "code",
      "source": [
        "df.groupby('PARK_FACIL')['SALES_PRICE'].mean().sort_values(ascending=True).plot.bar()"
      ],
      "metadata": {
        "colab": {
          "base_uri": "https://localhost:8080/",
          "height": 305
        },
        "id": "HvgnnWyF322G",
        "outputId": "86ad641d-f43e-40ab-c430-748e41c803ff"
      },
      "execution_count": 903,
      "outputs": [
        {
          "output_type": "execute_result",
          "data": {
            "text/plain": [
              "<matplotlib.axes._subplots.AxesSubplot at 0x7fc2b6159d90>"
            ]
          },
          "metadata": {},
          "execution_count": 903
        },
        {
          "output_type": "display_data",
          "data": {
            "text/plain": [
              "<Figure size 432x288 with 1 Axes>"
            ],
            "image/png": "[encoded data removed]"
          },
          "metadata": {
            "needs_background": "light"
          }
        }
      ]
    },
    {
      "cell_type": "code",
      "source": [
        "# it has a very slight relationship with the price.\n",
        "# house with parking fesility has given a little bit of price increase.\n",
        "# Since we still have some relationship we Retain this column.\n",
        "df.columns"
      ],
      "metadata": {
        "colab": {
          "base_uri": "https://localhost:8080/"
        },
        "id": "pEZrW9XF4Hnu",
        "outputId": "3755d85a-503e-4131-a44b-874dca32c03f"
      },
      "execution_count": 904,
      "outputs": [
        {
          "output_type": "execute_result",
          "data": {
            "text/plain": [
              "Index(['AREA', 'INT_SQFT', 'DATE_SALE', 'N_BEDROOM', 'N_BATHROOM', 'N_ROOM',\n",
              "       'PARK_FACIL', 'DATE_BUILD', 'BUILDTYPE', 'UTILITY_AVAIL', 'STREET',\n",
              "       'MZZONE', 'QS_ROOMS', 'QS_BATHROOM', 'QS_BEDROOM', 'QS_OVERALL',\n",
              "       'REG_FEE', 'COMMIS', 'SALES_PRICE', 'Sale Year'],\n",
              "      dtype='object')"
            ]
          },
          "metadata": {},
          "execution_count": 904
        }
      ]
    },
    {
      "cell_type": "markdown",
      "source": [
        "# Feature 'DATE_BUILD"
      ],
      "metadata": {
        "id": "9u_HKae65rKI"
      }
    },
    {
      "cell_type": "code",
      "source": [
        "df.DATE_BUILD.isnull().sum()"
      ],
      "metadata": {
        "colab": {
          "base_uri": "https://localhost:8080/"
        },
        "id": "ZPoP68KZ5Nin",
        "outputId": "d4068ac9-d3a1-4edb-8082-ff708b9b07a1"
      },
      "execution_count": 905,
      "outputs": [
        {
          "output_type": "execute_result",
          "data": {
            "text/plain": [
              "0"
            ]
          },
          "metadata": {},
          "execution_count": 905
        }
      ]
    },
    {
      "cell_type": "code",
      "source": [
        "df.DATE_BUILD.dtype"
      ],
      "metadata": {
        "colab": {
          "base_uri": "https://localhost:8080/"
        },
        "id": "joLb1z7u560m",
        "outputId": "2ed21ed2-616a-4286-fdfc-36793d549a01"
      },
      "execution_count": 906,
      "outputs": [
        {
          "output_type": "execute_result",
          "data": {
            "text/plain": [
              "dtype('O')"
            ]
          },
          "metadata": {},
          "execution_count": 906
        }
      ]
    },
    {
      "cell_type": "code",
      "source": [
        "df.DATE_BUILD = pd.to_datetime(df.DATE_BUILD)\n",
        "df['Built Year'] = pd.DatetimeIndex(df.DATE_BUILD).year\n",
        "df.DATE_BUILD.dtype"
      ],
      "metadata": {
        "colab": {
          "base_uri": "https://localhost:8080/"
        },
        "id": "3mlL0R6l6FiH",
        "outputId": "9df325af-70a3-4ab3-8094-55fba3ec90e9"
      },
      "execution_count": 907,
      "outputs": [
        {
          "output_type": "execute_result",
          "data": {
            "text/plain": [
              "dtype('<M8[ns]')"
            ]
          },
          "metadata": {},
          "execution_count": 907
        }
      ]
    },
    {
      "cell_type": "code",
      "source": [
        "df['AGE'] = df['Sale Year'] - df['Built Year']"
      ],
      "metadata": {
        "id": "J1eDQx0V6qCw"
      },
      "execution_count": 908,
      "outputs": []
    },
    {
      "cell_type": "code",
      "source": [
        "sns.distplot(df['Built Year'])"
      ],
      "metadata": {
        "colab": {
          "base_uri": "https://localhost:8080/",
          "height": 351
        },
        "id": "Qtixtg-DRBKg",
        "outputId": "ee23b077-ad19-40fc-b184-0629365bf19a"
      },
      "execution_count": 909,
      "outputs": [
        {
          "output_type": "stream",
          "name": "stderr",
          "text": [
            "/usr/local/lib/python3.7/dist-packages/seaborn/distributions.py:2619: FutureWarning: `distplot` is a deprecated function and will be removed in a future version. Please adapt your code to use either `displot` (a figure-level function with similar flexibility) or `histplot` (an axes-level function for histograms).\n",
            "  warnings.warn(msg, FutureWarning)\n"
          ]
        },
        {
          "output_type": "execute_result",
          "data": {
            "text/plain": [
              "<matplotlib.axes._subplots.AxesSubplot at 0x7fc2b60e3210>"
            ]
          },
          "metadata": {},
          "execution_count": 909
        },
        {
          "output_type": "display_data",
          "data": {
            "text/plain": [
              "<Figure size 432x288 with 1 Axes>"
            ],
            "image/png": "[encoded data removed]"
          },
          "metadata": {
            "needs_background": "light"
          }
        }
      ]
    },
    {
      "cell_type": "code",
      "source": [
        "# from the above plot we can see that the houses are buit mostly before the year 2000.\n",
        "# most of the houses are from 1985.\n",
        "# though it looks like normal dist, it has a bit of left skew."
      ],
      "metadata": {
        "id": "LEJY_dMgTElW"
      },
      "execution_count": 910,
      "outputs": []
    },
    {
      "cell_type": "code",
      "source": [
        "df.groupby('Built Year')['SALES_PRICE'].mean().sort_values(ascending=True).plot.bar()"
      ],
      "metadata": {
        "colab": {
          "base_uri": "https://localhost:8080/",
          "height": 323
        },
        "id": "hx7zDzsjVrwl",
        "outputId": "462cf47b-fb4e-437a-d254-01e5777cc09b"
      },
      "execution_count": 911,
      "outputs": [
        {
          "output_type": "execute_result",
          "data": {
            "text/plain": [
              "<matplotlib.axes._subplots.AxesSubplot at 0x7fc2b6073450>"
            ]
          },
          "metadata": {},
          "execution_count": 911
        },
        {
          "output_type": "display_data",
          "data": {
            "text/plain": [
              "<Figure size 432x288 with 1 Axes>"
            ],
            "image/png": "[encoded data removed]"
          },
          "metadata": {
            "needs_background": "light"
          }
        }
      ]
    },
    {
      "cell_type": "code",
      "source": [
        "# we see randomness in the both built and the sold year.\n",
        "# there is not a verygood relationship to the price so we are droping both the columns.\n",
        "df.drop('Built Year',axis=1,inplace = True)\n",
        "df.drop('Sale Year',axis=1,inplace = True)\n",
        "df.drop('DATE_SALE',axis=1,inplace = True)\n",
        "df.drop('DATE_BUILD',axis=1,inplace = True)\n",
        "df.columns"
      ],
      "metadata": {
        "colab": {
          "base_uri": "https://localhost:8080/"
        },
        "id": "truk6vJ0Xfsl",
        "outputId": "7a0e00f5-ab13-477b-9156-eae9fa840117"
      },
      "execution_count": 912,
      "outputs": [
        {
          "output_type": "execute_result",
          "data": {
            "text/plain": [
              "Index(['AREA', 'INT_SQFT', 'N_BEDROOM', 'N_BATHROOM', 'N_ROOM', 'PARK_FACIL',\n",
              "       'BUILDTYPE', 'UTILITY_AVAIL', 'STREET', 'MZZONE', 'QS_ROOMS',\n",
              "       'QS_BATHROOM', 'QS_BEDROOM', 'QS_OVERALL', 'REG_FEE', 'COMMIS',\n",
              "       'SALES_PRICE', 'AGE'],\n",
              "      dtype='object')"
            ]
          },
          "metadata": {},
          "execution_count": 912
        }
      ]
    },
    {
      "cell_type": "markdown",
      "source": [
        "# Feature 'BUILDTYPE'"
      ],
      "metadata": {
        "id": "3TAWOmZpZfEU"
      }
    },
    {
      "cell_type": "code",
      "source": [
        "df['BUILDTYPE'].isnull().sum()"
      ],
      "metadata": {
        "colab": {
          "base_uri": "https://localhost:8080/"
        },
        "id": "fo-SyawbY4od",
        "outputId": "a47cc576-7d1c-4be0-e6d1-306a28b3833b"
      },
      "execution_count": 913,
      "outputs": [
        {
          "output_type": "execute_result",
          "data": {
            "text/plain": [
              "0"
            ]
          },
          "metadata": {},
          "execution_count": 913
        }
      ]
    },
    {
      "cell_type": "code",
      "source": [
        "df['BUILDTYPE'].value_counts()"
      ],
      "metadata": {
        "colab": {
          "base_uri": "https://localhost:8080/"
        },
        "id": "N08VJhVtaEZq",
        "outputId": "6664a4a5-75cf-4e51-cdb5-17fe2579ffa6"
      },
      "execution_count": 914,
      "outputs": [
        {
          "output_type": "execute_result",
          "data": {
            "text/plain": [
              "House         2444\n",
              "Commercial    2325\n",
              "Others        2310\n",
              "Other           26\n",
              "Comercial        4\n",
              "Name: BUILDTYPE, dtype: int64"
            ]
          },
          "metadata": {},
          "execution_count": 914
        }
      ]
    },
    {
      "cell_type": "code",
      "source": [
        "typeh = {'Commercial':'Commercial', 'Others':'Others', 'Other':'Others', 'House':'House', 'Comercial':'Commercial'}\n",
        "df['BUILDTYPE'] = df['BUILDTYPE'].replace(typeh)\n",
        "df['BUILDTYPE'].unique()"
      ],
      "metadata": {
        "colab": {
          "base_uri": "https://localhost:8080/"
        },
        "id": "U--YMw2waL-6",
        "outputId": "b0895a0a-d865-480a-fd7e-f4b49032d60f"
      },
      "execution_count": 915,
      "outputs": [
        {
          "output_type": "execute_result",
          "data": {
            "text/plain": [
              "array(['Commercial', 'Others', 'House'], dtype=object)"
            ]
          },
          "metadata": {},
          "execution_count": 915
        }
      ]
    },
    {
      "cell_type": "code",
      "source": [
        "df.BUILDTYPE.value_counts().plot.bar()"
      ],
      "metadata": {
        "colab": {
          "base_uri": "https://localhost:8080/",
          "height": 332
        },
        "id": "edWXq6yeboiT",
        "outputId": "437c4c61-3cb5-450c-c826-206fc304c730"
      },
      "execution_count": 916,
      "outputs": [
        {
          "output_type": "execute_result",
          "data": {
            "text/plain": [
              "<matplotlib.axes._subplots.AxesSubplot at 0x7fc2b5e72610>"
            ]
          },
          "metadata": {},
          "execution_count": 916
        },
        {
          "output_type": "display_data",
          "data": {
            "text/plain": [
              "<Figure size 432x288 with 1 Axes>"
            ],
            "image/png": "[encoded data removed]"
          },
          "metadata": {
            "needs_background": "light"
          }
        }
      ]
    },
    {
      "cell_type": "code",
      "source": [
        "# we see that the data is evenly distributed among all three types.\n",
        "# so all the type of house has been evenly sold in the data."
      ],
      "metadata": {
        "id": "BsD_s3Jlc741"
      },
      "execution_count": 917,
      "outputs": []
    },
    {
      "cell_type": "code",
      "source": [
        "df.groupby('BUILDTYPE')['SALES_PRICE'].mean().sort_values(ascending=True).plot.bar()"
      ],
      "metadata": {
        "colab": {
          "base_uri": "https://localhost:8080/",
          "height": 357
        },
        "id": "dlr4yC5vfrNb",
        "outputId": "3fe4ab74-6405-41aa-d102-5c9df58e8d46"
      },
      "execution_count": 918,
      "outputs": [
        {
          "output_type": "execute_result",
          "data": {
            "text/plain": [
              "<matplotlib.axes._subplots.AxesSubplot at 0x7fc2b5dcfe50>"
            ]
          },
          "metadata": {},
          "execution_count": 918
        },
        {
          "output_type": "display_data",
          "data": {
            "text/plain": [
              "<Figure size 432x288 with 1 Axes>"
            ],
            "image/png": "[encoded data removed]"
          },
          "metadata": {
            "needs_background": "light"
          }
        }
      ]
    },
    {
      "cell_type": "code",
      "source": [
        "# There is a pure relationship between price and the type of the building.\n",
        "# The relationship is definately not a linear, so we are one hot encoding it.\n",
        "# the commercial houses obviously has a high price."
      ],
      "metadata": {
        "id": "WxHSj2GPgP7K"
      },
      "execution_count": 919,
      "outputs": []
    },
    {
      "cell_type": "code",
      "source": [
        "df = pd.get_dummies(df,columns=['BUILDTYPE'])"
      ],
      "metadata": {
        "id": "D626HWcNhDYK"
      },
      "execution_count": 920,
      "outputs": []
    },
    {
      "cell_type": "code",
      "source": [
        "df.columns"
      ],
      "metadata": {
        "colab": {
          "base_uri": "https://localhost:8080/"
        },
        "id": "vv4iRcyEisT9",
        "outputId": "4b3e9a01-3bd4-447c-b018-d6e243a08c9a"
      },
      "execution_count": 921,
      "outputs": [
        {
          "output_type": "execute_result",
          "data": {
            "text/plain": [
              "Index(['AREA', 'INT_SQFT', 'N_BEDROOM', 'N_BATHROOM', 'N_ROOM', 'PARK_FACIL',\n",
              "       'UTILITY_AVAIL', 'STREET', 'MZZONE', 'QS_ROOMS', 'QS_BATHROOM',\n",
              "       'QS_BEDROOM', 'QS_OVERALL', 'REG_FEE', 'COMMIS', 'SALES_PRICE', 'AGE',\n",
              "       'BUILDTYPE_Commercial', 'BUILDTYPE_House', 'BUILDTYPE_Others'],\n",
              "      dtype='object')"
            ]
          },
          "metadata": {},
          "execution_count": 921
        }
      ]
    },
    {
      "cell_type": "markdown",
      "source": [
        "# Feature 'UTILITY_AVAIL'"
      ],
      "metadata": {
        "id": "stJwkmiRi3NK"
      }
    },
    {
      "cell_type": "code",
      "source": [
        "df['UTILITY_AVAIL'].isnull().sum()"
      ],
      "metadata": {
        "colab": {
          "base_uri": "https://localhost:8080/"
        },
        "id": "lbeGBaVTi18D",
        "outputId": "3e1b90ff-e070-4bcf-adf3-5b6e2fb2cf18"
      },
      "execution_count": 922,
      "outputs": [
        {
          "output_type": "execute_result",
          "data": {
            "text/plain": [
              "0"
            ]
          },
          "metadata": {},
          "execution_count": 922
        }
      ]
    },
    {
      "cell_type": "code",
      "source": [
        "df['UTILITY_AVAIL'].unique()"
      ],
      "metadata": {
        "colab": {
          "base_uri": "https://localhost:8080/"
        },
        "id": "T-UClstdmVgH",
        "outputId": "4be37726-9621-454a-d0a1-49f584447818"
      },
      "execution_count": 923,
      "outputs": [
        {
          "output_type": "execute_result",
          "data": {
            "text/plain": [
              "array(['AllPub', 'ELO', 'NoSewr ', 'NoSeWa', 'All Pub'], dtype=object)"
            ]
          },
          "metadata": {},
          "execution_count": 923
        }
      ]
    },
    {
      "cell_type": "code",
      "source": [
        "m = {'AllPub':'AllPub' , 'ELO':'ELO', 'NoSewr ':'NoSewr', 'NoSeWa':'NoSeWa', 'All Pub':'AllPub'}\n",
        "df['UTILITY_AVAIL'] = df['UTILITY_AVAIL'].replace(m)"
      ],
      "metadata": {
        "id": "14oBOKaVnKX9"
      },
      "execution_count": 924,
      "outputs": []
    },
    {
      "cell_type": "code",
      "source": [
        "df.UTILITY_AVAIL.value_counts().plot.bar()"
      ],
      "metadata": {
        "colab": {
          "base_uri": "https://localhost:8080/",
          "height": 314
        },
        "id": "OEP9lOgpnuIA",
        "outputId": "009a7698-ef24-4065-e94d-63522ad13023"
      },
      "execution_count": 925,
      "outputs": [
        {
          "output_type": "execute_result",
          "data": {
            "text/plain": [
              "<matplotlib.axes._subplots.AxesSubplot at 0x7fc2b5d59f10>"
            ]
          },
          "metadata": {},
          "execution_count": 925
        },
        {
          "output_type": "display_data",
          "data": {
            "text/plain": [
              "<Figure size 432x288 with 1 Axes>"
            ],
            "image/png": "[encoded data removed]"
          },
          "metadata": {
            "needs_background": "light"
          }
        }
      ]
    },
    {
      "cell_type": "code",
      "source": [
        "# the houses with Elo fesility are a sold a bit less."
      ],
      "metadata": {
        "id": "XXhU4o6xn8Ym"
      },
      "execution_count": 926,
      "outputs": []
    },
    {
      "cell_type": "code",
      "source": [
        "df.groupby('UTILITY_AVAIL')['SALES_PRICE'].mean().sort_values(ascending=True).plot.bar()"
      ],
      "metadata": {
        "colab": {
          "base_uri": "https://localhost:8080/",
          "height": 339
        },
        "id": "2HDIZkh6oEWO",
        "outputId": "9a1cb9ba-0af2-4ccf-f48f-3e2a6b1c5924"
      },
      "execution_count": 927,
      "outputs": [
        {
          "output_type": "execute_result",
          "data": {
            "text/plain": [
              "<matplotlib.axes._subplots.AxesSubplot at 0x7fc2b5cc3dd0>"
            ]
          },
          "metadata": {},
          "execution_count": 927
        },
        {
          "output_type": "display_data",
          "data": {
            "text/plain": [
              "<Figure size 432x288 with 1 Axes>"
            ],
            "image/png": "[encoded data removed]"
          },
          "metadata": {
            "needs_background": "light"
          }
        }
      ]
    },
    {
      "cell_type": "code",
      "source": [
        "# we see an mostly even price among all the classes.\n",
        "# Utility obviously matter to the price change but in our data \n",
        "# the Utilities has average relationship with price. so we are still droping this feature.\n",
        "df.drop(columns='UTILITY_AVAIL',axis = 1, inplace = True)\n",
        "df.columns"
      ],
      "metadata": {
        "colab": {
          "base_uri": "https://localhost:8080/"
        },
        "id": "_8b8KfdOoL7T",
        "outputId": "57f7ac1e-91ed-454c-9d10-63cfb75f4a8f"
      },
      "execution_count": 928,
      "outputs": [
        {
          "output_type": "execute_result",
          "data": {
            "text/plain": [
              "Index(['AREA', 'INT_SQFT', 'N_BEDROOM', 'N_BATHROOM', 'N_ROOM', 'PARK_FACIL',\n",
              "       'STREET', 'MZZONE', 'QS_ROOMS', 'QS_BATHROOM', 'QS_BEDROOM',\n",
              "       'QS_OVERALL', 'REG_FEE', 'COMMIS', 'SALES_PRICE', 'AGE',\n",
              "       'BUILDTYPE_Commercial', 'BUILDTYPE_House', 'BUILDTYPE_Others'],\n",
              "      dtype='object')"
            ]
          },
          "metadata": {},
          "execution_count": 928
        }
      ]
    },
    {
      "cell_type": "markdown",
      "source": [
        "# Feature 'STREET'"
      ],
      "metadata": {
        "id": "VKkzOUH0pfIG"
      }
    },
    {
      "cell_type": "code",
      "source": [
        "df['STREET'].isnull().sum()"
      ],
      "metadata": {
        "colab": {
          "base_uri": "https://localhost:8080/"
        },
        "id": "kKZb9Wu0pllW",
        "outputId": "8bfc9991-427f-4f7b-fe85-673c1c041fec"
      },
      "execution_count": 929,
      "outputs": [
        {
          "output_type": "execute_result",
          "data": {
            "text/plain": [
              "0"
            ]
          },
          "metadata": {},
          "execution_count": 929
        }
      ]
    },
    {
      "cell_type": "code",
      "source": [
        "df['STREET'].unique()"
      ],
      "metadata": {
        "colab": {
          "base_uri": "https://localhost:8080/"
        },
        "id": "J-ezhIDmv33C",
        "outputId": "027f0b6e-5dca-4b97-d87c-afedb7a397be"
      },
      "execution_count": 930,
      "outputs": [
        {
          "output_type": "execute_result",
          "data": {
            "text/plain": [
              "array(['Paved', 'Gravel', 'No Access', 'Pavd', 'NoAccess'], dtype=object)"
            ]
          },
          "metadata": {},
          "execution_count": 930
        }
      ]
    },
    {
      "cell_type": "code",
      "source": [
        "sttype = {'Paved':'Paved', 'Gravel':'Gravel', 'No Access':'No Access', 'Pavd':'Paved', 'NoAccess':'No Access'}\n",
        "df['STREET'].replace(sttype,inplace=True)"
      ],
      "metadata": {
        "id": "9egxA6X4wFT4"
      },
      "execution_count": 931,
      "outputs": []
    },
    {
      "cell_type": "code",
      "source": [
        "df['STREET'].value_counts()"
      ],
      "metadata": {
        "colab": {
          "base_uri": "https://localhost:8080/"
        },
        "id": "QWL1FZ2Qxc6G",
        "outputId": "6ffe1316-64b2-4c6b-d360-f6d3ad34919f"
      },
      "execution_count": 932,
      "outputs": [
        {
          "output_type": "execute_result",
          "data": {
            "text/plain": [
              "Paved        2572\n",
              "Gravel       2520\n",
              "No Access    2017\n",
              "Name: STREET, dtype: int64"
            ]
          },
          "metadata": {},
          "execution_count": 932
        }
      ]
    },
    {
      "cell_type": "code",
      "source": [
        "df.STREET.value_counts().plot.bar()"
      ],
      "metadata": {
        "colab": {
          "base_uri": "https://localhost:8080/",
          "height": 323
        },
        "id": "HiUO6VRaxoXb",
        "outputId": "e5f6c436-06f0-4e7f-9342-a58bd4e93da0"
      },
      "execution_count": 933,
      "outputs": [
        {
          "output_type": "execute_result",
          "data": {
            "text/plain": [
              "<matplotlib.axes._subplots.AxesSubplot at 0x7fc2b5c3dd90>"
            ]
          },
          "metadata": {},
          "execution_count": 933
        },
        {
          "output_type": "display_data",
          "data": {
            "text/plain": [
              "<Figure size 432x288 with 1 Axes>"
            ],
            "image/png": "[encoded data removed]"
          },
          "metadata": {
            "needs_background": "light"
          }
        }
      ]
    },
    {
      "cell_type": "code",
      "source": [
        "# the data of the No Access is a bit less in the data compared to other features."
      ],
      "metadata": {
        "id": "60XftAHax9i8"
      },
      "execution_count": 934,
      "outputs": []
    },
    {
      "cell_type": "code",
      "source": [
        "df.groupby('STREET')['SALES_PRICE'].mean().sort_values(ascending=True).plot.bar()"
      ],
      "metadata": {
        "colab": {
          "base_uri": "https://localhost:8080/",
          "height": 348
        },
        "id": "g_-aotJJyMKr",
        "outputId": "c66943ae-46e1-41f8-8308-ed64850c9a25"
      },
      "execution_count": 935,
      "outputs": [
        {
          "output_type": "execute_result",
          "data": {
            "text/plain": [
              "<matplotlib.axes._subplots.AxesSubplot at 0x7fc2b5c07890>"
            ]
          },
          "metadata": {},
          "execution_count": 935
        },
        {
          "output_type": "display_data",
          "data": {
            "text/plain": [
              "<Figure size 432x288 with 1 Axes>"
            ],
            "image/png": "[encoded data removed]"
          },
          "metadata": {
            "needs_background": "light"
          }
        }
      ]
    },
    {
      "cell_type": "code",
      "source": [
        "# we see a linear relationship here so we will lable encode \n",
        "# and retain the order.\n",
        "df.STREET.unique()"
      ],
      "metadata": {
        "id": "oO7IjjP3ySdO",
        "colab": {
          "base_uri": "https://localhost:8080/"
        },
        "outputId": "d6d68650-783d-465e-c308-9cb87d01e77f"
      },
      "execution_count": 936,
      "outputs": [
        {
          "output_type": "execute_result",
          "data": {
            "text/plain": [
              "array(['Paved', 'Gravel', 'No Access'], dtype=object)"
            ]
          },
          "metadata": {},
          "execution_count": 936
        }
      ]
    },
    {
      "cell_type": "code",
      "source": [
        "stmap = {'Paved':1, 'Gravel':2, 'No Access':0}\n",
        "df.STREET.replace(stmap,inplace=True)"
      ],
      "metadata": {
        "id": "Mmmb9hBuIElu"
      },
      "execution_count": 937,
      "outputs": []
    },
    {
      "cell_type": "code",
      "source": [
        "df.columns"
      ],
      "metadata": {
        "colab": {
          "base_uri": "https://localhost:8080/"
        },
        "id": "GNxnYs7IzRJ8",
        "outputId": "3462f9b1-4d54-4080-e096-e1e9119a83c3"
      },
      "execution_count": 938,
      "outputs": [
        {
          "output_type": "execute_result",
          "data": {
            "text/plain": [
              "Index(['AREA', 'INT_SQFT', 'N_BEDROOM', 'N_BATHROOM', 'N_ROOM', 'PARK_FACIL',\n",
              "       'STREET', 'MZZONE', 'QS_ROOMS', 'QS_BATHROOM', 'QS_BEDROOM',\n",
              "       'QS_OVERALL', 'REG_FEE', 'COMMIS', 'SALES_PRICE', 'AGE',\n",
              "       'BUILDTYPE_Commercial', 'BUILDTYPE_House', 'BUILDTYPE_Others'],\n",
              "      dtype='object')"
            ]
          },
          "metadata": {},
          "execution_count": 938
        }
      ]
    },
    {
      "cell_type": "markdown",
      "source": [
        "# Feature 'MZZONE'"
      ],
      "metadata": {
        "id": "rjpSIbvK0isW"
      }
    },
    {
      "cell_type": "code",
      "source": [
        "df['MZZONE'].isnull().sum()"
      ],
      "metadata": {
        "colab": {
          "base_uri": "https://localhost:8080/"
        },
        "id": "zJx8T_Ov0myL",
        "outputId": "8b9aedbd-c065-4291-c172-83cffaff8874"
      },
      "execution_count": 939,
      "outputs": [
        {
          "output_type": "execute_result",
          "data": {
            "text/plain": [
              "0"
            ]
          },
          "metadata": {},
          "execution_count": 939
        }
      ]
    },
    {
      "cell_type": "code",
      "source": [
        "df['MZZONE'].value_counts()"
      ],
      "metadata": {
        "colab": {
          "base_uri": "https://localhost:8080/"
        },
        "id": "KMn2RRA10rTa",
        "outputId": "28e3054d-2de1-4b87-d659-18cc86f302c8"
      },
      "execution_count": 940,
      "outputs": [
        {
          "output_type": "execute_result",
          "data": {
            "text/plain": [
              "RL    1858\n",
              "RH    1822\n",
              "RM    1817\n",
              "C      550\n",
              "A      537\n",
              "I      525\n",
              "Name: MZZONE, dtype: int64"
            ]
          },
          "metadata": {},
          "execution_count": 940
        }
      ]
    },
    {
      "cell_type": "code",
      "source": [
        "df.MZZONE.value_counts().plot.bar()"
      ],
      "metadata": {
        "colab": {
          "base_uri": "https://localhost:8080/",
          "height": 288
        },
        "id": "i1vibVcP2M2C",
        "outputId": "f4bf46d6-15e6-4ff8-eba5-12d04f2cdcb7"
      },
      "execution_count": 941,
      "outputs": [
        {
          "output_type": "execute_result",
          "data": {
            "text/plain": [
              "<matplotlib.axes._subplots.AxesSubplot at 0x7fc2b5b9e9d0>"
            ]
          },
          "metadata": {},
          "execution_count": 941
        },
        {
          "output_type": "display_data",
          "data": {
            "text/plain": [
              "<Figure size 432x288 with 1 Axes>"
            ],
            "image/png": "[encoded data removed]"
          },
          "metadata": {
            "needs_background": "light"
          }
        }
      ]
    },
    {
      "cell_type": "code",
      "source": [
        "# as per the data we have more data of the residential High, low and medium density landdata.\n",
        "# it is a right skewed data."
      ],
      "metadata": {
        "id": "ES6VoIF22WWr"
      },
      "execution_count": 942,
      "outputs": []
    },
    {
      "cell_type": "code",
      "source": [
        "df.groupby('MZZONE')['SALES_PRICE'].mean().sort_values(ascending=True).plot.bar()"
      ],
      "metadata": {
        "colab": {
          "base_uri": "https://localhost:8080/",
          "height": 313
        },
        "id": "pb61Nz9D26Vp",
        "outputId": "c6d9bd5c-32f1-4f33-ae40-5235de2a9ad1"
      },
      "execution_count": 943,
      "outputs": [
        {
          "output_type": "execute_result",
          "data": {
            "text/plain": [
              "<matplotlib.axes._subplots.AxesSubplot at 0x7fc2b5b09d10>"
            ]
          },
          "metadata": {},
          "execution_count": 943
        },
        {
          "output_type": "display_data",
          "data": {
            "text/plain": [
              "<Figure size 432x288 with 1 Axes>"
            ],
            "image/png": "[encoded data removed]"
          },
          "metadata": {
            "needs_background": "light"
          }
        }
      ]
    },
    {
      "cell_type": "code",
      "source": [
        "# we definately see a linear Relationship in the Data.\n",
        "# Agri lands are low priced residential medium are very high priced.\n",
        "# and in the dist plot we understood that the A,C,I has a very huge imbalance\n",
        "# which is more that 70% so in this feature if we are trying to impute or drop rows.\n",
        "# we will loose a lot of info. so we will drop this column."
      ],
      "metadata": {
        "id": "aGUxLjt73Cey"
      },
      "execution_count": 944,
      "outputs": []
    },
    {
      "cell_type": "code",
      "source": [
        "df.drop('MZZONE',axis =1, inplace=True)"
      ],
      "metadata": {
        "id": "hblstTaIYEKc"
      },
      "execution_count": 945,
      "outputs": []
    },
    {
      "cell_type": "code",
      "source": [
        "df.columns"
      ],
      "metadata": {
        "colab": {
          "base_uri": "https://localhost:8080/"
        },
        "id": "5IoLpwMuaUEv",
        "outputId": "8d87fba9-f625-43aa-954e-5d39fbca79f6"
      },
      "execution_count": 946,
      "outputs": [
        {
          "output_type": "execute_result",
          "data": {
            "text/plain": [
              "Index(['AREA', 'INT_SQFT', 'N_BEDROOM', 'N_BATHROOM', 'N_ROOM', 'PARK_FACIL',\n",
              "       'STREET', 'QS_ROOMS', 'QS_BATHROOM', 'QS_BEDROOM', 'QS_OVERALL',\n",
              "       'REG_FEE', 'COMMIS', 'SALES_PRICE', 'AGE', 'BUILDTYPE_Commercial',\n",
              "       'BUILDTYPE_House', 'BUILDTYPE_Others'],\n",
              "      dtype='object')"
            ]
          },
          "metadata": {},
          "execution_count": 946
        }
      ]
    },
    {
      "cell_type": "markdown",
      "source": [
        "Feature QS_ROOMS"
      ],
      "metadata": {
        "id": "HFys3MLRY5j_"
      }
    },
    {
      "cell_type": "code",
      "source": [
        "df.QS_ROOMS.isnull().sum()"
      ],
      "metadata": {
        "colab": {
          "base_uri": "https://localhost:8080/"
        },
        "id": "2GvnBBK6tXqm",
        "outputId": "947129e4-6923-4134-bf3a-8adb5b4523d1"
      },
      "execution_count": 947,
      "outputs": [
        {
          "output_type": "execute_result",
          "data": {
            "text/plain": [
              "0"
            ]
          },
          "metadata": {},
          "execution_count": 947
        }
      ]
    },
    {
      "cell_type": "code",
      "source": [
        "df.QS_ROOMS.describe()"
      ],
      "metadata": {
        "colab": {
          "base_uri": "https://localhost:8080/"
        },
        "id": "uSBeS47QzQ2j",
        "outputId": "53f949ff-9162-4b58-9bd0-381ee31f3481"
      },
      "execution_count": 948,
      "outputs": [
        {
          "output_type": "execute_result",
          "data": {
            "text/plain": [
              "count    7109.000000\n",
              "mean        3.517471\n",
              "std         0.891972\n",
              "min         2.000000\n",
              "25%         2.700000\n",
              "50%         3.500000\n",
              "75%         4.300000\n",
              "max         5.000000\n",
              "Name: QS_ROOMS, dtype: float64"
            ]
          },
          "metadata": {},
          "execution_count": 948
        }
      ]
    },
    {
      "cell_type": "code",
      "source": [
        "sns.distplot(df['QS_ROOMS'])"
      ],
      "metadata": {
        "colab": {
          "base_uri": "https://localhost:8080/",
          "height": 352
        },
        "id": "6vpmdj0HtdqF",
        "outputId": "5425c4b4-5c4d-4f0b-a435-430aa7cc065c"
      },
      "execution_count": 949,
      "outputs": [
        {
          "output_type": "stream",
          "name": "stderr",
          "text": [
            "/usr/local/lib/python3.7/dist-packages/seaborn/distributions.py:2619: FutureWarning: `distplot` is a deprecated function and will be removed in a future version. Please adapt your code to use either `displot` (a figure-level function with similar flexibility) or `histplot` (an axes-level function for histograms).\n",
            "  warnings.warn(msg, FutureWarning)\n"
          ]
        },
        {
          "output_type": "execute_result",
          "data": {
            "text/plain": [
              "<matplotlib.axes._subplots.AxesSubplot at 0x7fc2b5a92210>"
            ]
          },
          "metadata": {},
          "execution_count": 949
        },
        {
          "output_type": "display_data",
          "data": {
            "text/plain": [
              "<Figure size 432x288 with 1 Axes>"
            ],
            "image/png": "[encoded data removed]"
          },
          "metadata": {
            "needs_background": "light"
          }
        }
      ]
    },
    {
      "cell_type": "code",
      "source": [
        "# we can see the data is uniformly distributed.\n",
        "# the dataset has equal ammount of data for all class ratings."
      ],
      "metadata": {
        "id": "Ln0TLCms0_8T"
      },
      "execution_count": 950,
      "outputs": []
    },
    {
      "cell_type": "code",
      "source": [
        "df.groupby('QS_ROOMS')['SALES_PRICE'].mean().sort_index(ascending=True).plot.bar()"
      ],
      "metadata": {
        "colab": {
          "base_uri": "https://localhost:8080/",
          "height": 314
        },
        "id": "MGh3ScC2134x",
        "outputId": "fa8fa318-c94e-45f6-f57e-e838ca87e9aa"
      },
      "execution_count": 951,
      "outputs": [
        {
          "output_type": "execute_result",
          "data": {
            "text/plain": [
              "<matplotlib.axes._subplots.AxesSubplot at 0x7fc2b5a5a8d0>"
            ]
          },
          "metadata": {},
          "execution_count": 951
        },
        {
          "output_type": "display_data",
          "data": {
            "text/plain": [
              "<Figure size 432x288 with 1 Axes>"
            ],
            "image/png": "[encoded data removed]"
          },
          "metadata": {
            "needs_background": "light"
          }
        }
      ]
    },
    {
      "cell_type": "code",
      "source": [
        "# our unique values already has a rating order so we are to sort the index.\n",
        "# as per our index we dont see any linear relationship and we are droping the feature.\n",
        "df.drop(columns=['QS_ROOMS'],inplace=True)\n",
        "df.columns"
      ],
      "metadata": {
        "colab": {
          "base_uri": "https://localhost:8080/"
        },
        "id": "6DE6Lsbo2EA3",
        "outputId": "8cba0cdb-902e-4d1a-dd0d-1c259902b0ec"
      },
      "execution_count": 952,
      "outputs": [
        {
          "output_type": "execute_result",
          "data": {
            "text/plain": [
              "Index(['AREA', 'INT_SQFT', 'N_BEDROOM', 'N_BATHROOM', 'N_ROOM', 'PARK_FACIL',\n",
              "       'STREET', 'QS_BATHROOM', 'QS_BEDROOM', 'QS_OVERALL', 'REG_FEE',\n",
              "       'COMMIS', 'SALES_PRICE', 'AGE', 'BUILDTYPE_Commercial',\n",
              "       'BUILDTYPE_House', 'BUILDTYPE_Others'],\n",
              "      dtype='object')"
            ]
          },
          "metadata": {},
          "execution_count": 952
        }
      ]
    },
    {
      "cell_type": "markdown",
      "source": [
        "Feature 'QS_BATHROOM'"
      ],
      "metadata": {
        "id": "tZSJs2r_3OWo"
      }
    },
    {
      "cell_type": "code",
      "source": [
        "df['QS_BATHROOM'].isnull().sum()"
      ],
      "metadata": {
        "colab": {
          "base_uri": "https://localhost:8080/"
        },
        "id": "3W2lVsOJ3DH5",
        "outputId": "d30d0394-88ad-46df-d737-3875ebf2e584"
      },
      "execution_count": 953,
      "outputs": [
        {
          "output_type": "execute_result",
          "data": {
            "text/plain": [
              "0"
            ]
          },
          "metadata": {},
          "execution_count": 953
        }
      ]
    },
    {
      "cell_type": "code",
      "source": [
        "sns.distplot(df['QS_BATHROOM'])"
      ],
      "metadata": {
        "colab": {
          "base_uri": "https://localhost:8080/",
          "height": 352
        },
        "id": "oUAA76wD3eBY",
        "outputId": "4290b8f1-8818-4c68-8997-01c39fd6f5ff"
      },
      "execution_count": 954,
      "outputs": [
        {
          "output_type": "stream",
          "name": "stderr",
          "text": [
            "/usr/local/lib/python3.7/dist-packages/seaborn/distributions.py:2619: FutureWarning: `distplot` is a deprecated function and will be removed in a future version. Please adapt your code to use either `displot` (a figure-level function with similar flexibility) or `histplot` (an axes-level function for histograms).\n",
            "  warnings.warn(msg, FutureWarning)\n"
          ]
        },
        {
          "output_type": "execute_result",
          "data": {
            "text/plain": [
              "<matplotlib.axes._subplots.AxesSubplot at 0x7fc2b5931850>"
            ]
          },
          "metadata": {},
          "execution_count": 954
        },
        {
          "output_type": "display_data",
          "data": {
            "text/plain": [
              "<Figure size 432x288 with 1 Axes>"
            ],
            "image/png": "[encoded data removed]"
          },
          "metadata": {
            "needs_background": "light"
          }
        }
      ]
    },
    {
      "cell_type": "code",
      "source": [
        "# again the data we see is uniform.\n",
        "# we dont have too much of any data."
      ],
      "metadata": {
        "id": "ZqHBdJG93iQW"
      },
      "execution_count": 955,
      "outputs": []
    },
    {
      "cell_type": "code",
      "source": [
        "df.groupby('QS_BATHROOM')['SALES_PRICE'].mean().sort_index(ascending=True).plot.bar()"
      ],
      "metadata": {
        "colab": {
          "base_uri": "https://localhost:8080/",
          "height": 314
        },
        "id": "ej1FsIzk31lu",
        "outputId": "186501c7-0c0f-4a31-fe79-1436e8135fd5"
      },
      "execution_count": 956,
      "outputs": [
        {
          "output_type": "execute_result",
          "data": {
            "text/plain": [
              "<matplotlib.axes._subplots.AxesSubplot at 0x7fc2b5978d10>"
            ]
          },
          "metadata": {},
          "execution_count": 956
        },
        {
          "output_type": "display_data",
          "data": {
            "text/plain": [
              "<Figure size 432x288 with 1 Axes>"
            ],
            "image/png": "[encoded data removed]"
          },
          "metadata": {
            "needs_background": "light"
          }
        }
      ]
    },
    {
      "cell_type": "code",
      "source": [
        "# no relationship in terms of price.\n",
        "df.drop(columns=['QS_BATHROOM'],inplace=True)\n",
        "df.columns"
      ],
      "metadata": {
        "colab": {
          "base_uri": "https://localhost:8080/"
        },
        "id": "pfWtQWpF4AEQ",
        "outputId": "035c1ac9-f2c4-4eaa-c126-1600272ff558"
      },
      "execution_count": 957,
      "outputs": [
        {
          "output_type": "execute_result",
          "data": {
            "text/plain": [
              "Index(['AREA', 'INT_SQFT', 'N_BEDROOM', 'N_BATHROOM', 'N_ROOM', 'PARK_FACIL',\n",
              "       'STREET', 'QS_BEDROOM', 'QS_OVERALL', 'REG_FEE', 'COMMIS',\n",
              "       'SALES_PRICE', 'AGE', 'BUILDTYPE_Commercial', 'BUILDTYPE_House',\n",
              "       'BUILDTYPE_Others'],\n",
              "      dtype='object')"
            ]
          },
          "metadata": {},
          "execution_count": 957
        }
      ]
    },
    {
      "cell_type": "markdown",
      "source": [
        "Feature QS_BEDROOM"
      ],
      "metadata": {
        "id": "8QP2R2hT4UUO"
      }
    },
    {
      "cell_type": "code",
      "source": [
        "df.QS_BEDROOM.isnull().sum()"
      ],
      "metadata": {
        "colab": {
          "base_uri": "https://localhost:8080/"
        },
        "id": "7NjE82OO4Y7P",
        "outputId": "e4eb71b3-0924-4634-e951-ae4d3a198445"
      },
      "execution_count": 958,
      "outputs": [
        {
          "output_type": "execute_result",
          "data": {
            "text/plain": [
              "0"
            ]
          },
          "metadata": {},
          "execution_count": 958
        }
      ]
    },
    {
      "cell_type": "code",
      "source": [
        "sns.distplot(df['QS_BEDROOM'])"
      ],
      "metadata": {
        "colab": {
          "base_uri": "https://localhost:8080/",
          "height": 352
        },
        "id": "Ig4FIN8j4w9W",
        "outputId": "80fa88c9-e966-4ac0-9a29-1a02b70af5bb"
      },
      "execution_count": 959,
      "outputs": [
        {
          "output_type": "stream",
          "name": "stderr",
          "text": [
            "/usr/local/lib/python3.7/dist-packages/seaborn/distributions.py:2619: FutureWarning: `distplot` is a deprecated function and will be removed in a future version. Please adapt your code to use either `displot` (a figure-level function with similar flexibility) or `histplot` (an axes-level function for histograms).\n",
            "  warnings.warn(msg, FutureWarning)\n"
          ]
        },
        {
          "output_type": "execute_result",
          "data": {
            "text/plain": [
              "<matplotlib.axes._subplots.AxesSubplot at 0x7fc2b576e850>"
            ]
          },
          "metadata": {},
          "execution_count": 959
        },
        {
          "output_type": "display_data",
          "data": {
            "text/plain": [
              "<Figure size 432x288 with 1 Axes>"
            ],
            "image/png": "[encoded data removed]"
          },
          "metadata": {
            "needs_background": "light"
          }
        }
      ]
    },
    {
      "cell_type": "code",
      "source": [
        "# Uniform....."
      ],
      "metadata": {
        "id": "QJC85zo747c1"
      },
      "execution_count": 960,
      "outputs": []
    },
    {
      "cell_type": "code",
      "source": [
        "df.groupby('QS_BEDROOM')['SALES_PRICE'].mean().sort_index(ascending=True).plot.bar()"
      ],
      "metadata": {
        "colab": {
          "base_uri": "https://localhost:8080/",
          "height": 314
        },
        "id": "0FQgIArU4_12",
        "outputId": "fc464d05-8443-42e3-e747-5559bcb951c9"
      },
      "execution_count": 961,
      "outputs": [
        {
          "output_type": "execute_result",
          "data": {
            "text/plain": [
              "<matplotlib.axes._subplots.AxesSubplot at 0x7fc2b5978cd0>"
            ]
          },
          "metadata": {},
          "execution_count": 961
        },
        {
          "output_type": "display_data",
          "data": {
            "text/plain": [
              "<Figure size 432x288 with 1 Axes>"
            ],
            "image/png": "[encoded data removed]"
          },
          "metadata": {
            "needs_background": "light"
          }
        }
      ]
    },
    {
      "cell_type": "code",
      "source": [
        "# no relationship.\n",
        "df.drop(columns= ['QS_BEDROOM'],inplace = True)"
      ],
      "metadata": {
        "id": "txsHcDhm5HJw"
      },
      "execution_count": 962,
      "outputs": []
    },
    {
      "cell_type": "markdown",
      "source": [
        "Feature QS_OVERALL"
      ],
      "metadata": {
        "id": "VnXXhE835Kpv"
      }
    },
    {
      "cell_type": "code",
      "source": [
        "df.QS_OVERALL.isnull().sum()"
      ],
      "metadata": {
        "colab": {
          "base_uri": "https://localhost:8080/"
        },
        "id": "EPHNf0O45icu",
        "outputId": "f39ff130-daf3-41b9-e9a7-d9267603b3e0"
      },
      "execution_count": 963,
      "outputs": [
        {
          "output_type": "execute_result",
          "data": {
            "text/plain": [
              "48"
            ]
          },
          "metadata": {},
          "execution_count": 963
        }
      ]
    },
    {
      "cell_type": "code",
      "source": [
        "df.QS_OVERALL.fillna(df.QS_OVERALL.mode(),inplace=True)"
      ],
      "metadata": {
        "id": "f5yBrRCM6EKi"
      },
      "execution_count": 964,
      "outputs": []
    },
    {
      "cell_type": "code",
      "source": [
        "df.groupby('QS_OVERALL')['SALES_PRICE'].mean().sort_index(ascending=True).plot.bar()"
      ],
      "metadata": {
        "colab": {
          "base_uri": "https://localhost:8080/",
          "height": 327
        },
        "id": "fu1AcQ2v54eZ",
        "outputId": "374df1e2-5fe6-4ed5-c3e6-40d1a56c737a"
      },
      "execution_count": 965,
      "outputs": [
        {
          "output_type": "execute_result",
          "data": {
            "text/plain": [
              "<matplotlib.axes._subplots.AxesSubplot at 0x7fc2b558f390>"
            ]
          },
          "metadata": {},
          "execution_count": 965
        },
        {
          "output_type": "display_data",
          "data": {
            "text/plain": [
              "<Figure size 432x288 with 1 Axes>"
            ],
            "image/png": "[encoded data removed]"
          },
          "metadata": {
            "needs_background": "light"
          }
        }
      ]
    },
    {
      "cell_type": "code",
      "source": [
        "# Drop\n",
        "df.drop(columns = ['QS_OVERALL'], inplace=True)\n",
        "df.columns"
      ],
      "metadata": {
        "colab": {
          "base_uri": "https://localhost:8080/"
        },
        "id": "XO0j1hyd6wke",
        "outputId": "759bdb42-7416-4674-d2a7-bbccad4a8e0f"
      },
      "execution_count": 966,
      "outputs": [
        {
          "output_type": "execute_result",
          "data": {
            "text/plain": [
              "Index(['AREA', 'INT_SQFT', 'N_BEDROOM', 'N_BATHROOM', 'N_ROOM', 'PARK_FACIL',\n",
              "       'STREET', 'REG_FEE', 'COMMIS', 'SALES_PRICE', 'AGE',\n",
              "       'BUILDTYPE_Commercial', 'BUILDTYPE_House', 'BUILDTYPE_Others'],\n",
              "      dtype='object')"
            ]
          },
          "metadata": {},
          "execution_count": 966
        }
      ]
    },
    {
      "cell_type": "code",
      "source": [
        "# we will drop REG_FEE and commis as our target is fixed as sales price.\n",
        "# if we need to use them we will have to add them up with sales and it is a \n",
        "# restart of all the progress and also will not make much difference.\n",
        "df.drop(columns=['REG_FEE','COMMIS'],inplace=True) \n",
        "df.columns"
      ],
      "metadata": {
        "colab": {
          "base_uri": "https://localhost:8080/"
        },
        "id": "3k021D0Q7JtM",
        "outputId": "db06b8ec-192d-42ba-ab88-7ce5b95e38f1"
      },
      "execution_count": 967,
      "outputs": [
        {
          "output_type": "execute_result",
          "data": {
            "text/plain": [
              "Index(['AREA', 'INT_SQFT', 'N_BEDROOM', 'N_BATHROOM', 'N_ROOM', 'PARK_FACIL',\n",
              "       'STREET', 'SALES_PRICE', 'AGE', 'BUILDTYPE_Commercial',\n",
              "       'BUILDTYPE_House', 'BUILDTYPE_Others'],\n",
              "      dtype='object')"
            ]
          },
          "metadata": {},
          "execution_count": 967
        }
      ]
    },
    {
      "cell_type": "markdown",
      "source": [
        "# Target 'SALES_PRICE'"
      ],
      "metadata": {
        "id": "k0G2PxpP8R8E"
      }
    },
    {
      "cell_type": "code",
      "source": [
        "df.SALES_PRICE.isnull().sum()"
      ],
      "metadata": {
        "colab": {
          "base_uri": "https://localhost:8080/"
        },
        "id": "DFx3R09w71Hr",
        "outputId": "591a7658-beb0-4b5c-d411-d550cc4c5836"
      },
      "execution_count": 968,
      "outputs": [
        {
          "output_type": "execute_result",
          "data": {
            "text/plain": [
              "0"
            ]
          },
          "metadata": {},
          "execution_count": 968
        }
      ]
    },
    {
      "cell_type": "code",
      "source": [
        "df.SALES_PRICE.dtype"
      ],
      "metadata": {
        "colab": {
          "base_uri": "https://localhost:8080/"
        },
        "id": "m9nQDmgsA1IZ",
        "outputId": "7a27d438-f8e1-4744-a281-28d132877276"
      },
      "execution_count": 969,
      "outputs": [
        {
          "output_type": "execute_result",
          "data": {
            "text/plain": [
              "dtype('int64')"
            ]
          },
          "metadata": {},
          "execution_count": 969
        }
      ]
    },
    {
      "cell_type": "code",
      "source": [
        "df.boxplot(column=['SALES_PRICE'])"
      ],
      "metadata": {
        "colab": {
          "base_uri": "https://localhost:8080/",
          "height": 294
        },
        "id": "RK2vcCNi8Vxc",
        "outputId": "f4eeb9eb-6181-49a5-a58e-1c19aa9c4e5a"
      },
      "execution_count": 970,
      "outputs": [
        {
          "output_type": "execute_result",
          "data": {
            "text/plain": [
              "<matplotlib.axes._subplots.AxesSubplot at 0x7fc2b4bd9610>"
            ]
          },
          "metadata": {},
          "execution_count": 970
        },
        {
          "output_type": "display_data",
          "data": {
            "text/plain": [
              "<Figure size 432x288 with 1 Axes>"
            ],
            "image/png": "[encoded data removed]"
          },
          "metadata": {
            "needs_background": "light"
          }
        }
      ]
    },
    {
      "cell_type": "code",
      "source": [
        "# we see outliers but its regarding the over priced houses.\n",
        "# this data will definately make sense when it comes to the relationship with other \n",
        "# columns and also the we can identify the factors that has influenced the sales price.\n",
        "# here the outliers are necessary and not required to be deleted.\n",
        "df.columns"
      ],
      "metadata": {
        "colab": {
          "base_uri": "https://localhost:8080/"
        },
        "id": "6ZwXh7grBAxs",
        "outputId": "bca183f0-f026-4295-c8b7-75488edde213"
      },
      "execution_count": 971,
      "outputs": [
        {
          "output_type": "execute_result",
          "data": {
            "text/plain": [
              "Index(['AREA', 'INT_SQFT', 'N_BEDROOM', 'N_BATHROOM', 'N_ROOM', 'PARK_FACIL',\n",
              "       'STREET', 'SALES_PRICE', 'AGE', 'BUILDTYPE_Commercial',\n",
              "       'BUILDTYPE_House', 'BUILDTYPE_Others'],\n",
              "      dtype='object')"
            ]
          },
          "metadata": {},
          "execution_count": 971
        }
      ]
    },
    {
      "cell_type": "markdown",
      "source": [
        "# Feature 'AGE'"
      ],
      "metadata": {
        "id": "RdewvICzELqA"
      }
    },
    {
      "cell_type": "code",
      "source": [
        "df.AGE.isnull().sum()"
      ],
      "metadata": {
        "colab": {
          "base_uri": "https://localhost:8080/"
        },
        "id": "fSTe7bozELLa",
        "outputId": "b3a24666-641b-4e65-9c9c-a5fbd9335f47"
      },
      "execution_count": 972,
      "outputs": [
        {
          "output_type": "execute_result",
          "data": {
            "text/plain": [
              "0"
            ]
          },
          "metadata": {},
          "execution_count": 972
        }
      ]
    },
    {
      "cell_type": "code",
      "source": [
        "df.AGE.dtype"
      ],
      "metadata": {
        "colab": {
          "base_uri": "https://localhost:8080/"
        },
        "id": "EvE-LPn-FB2H",
        "outputId": "490bb93d-3d88-4a66-b151-7d2daffdd55c"
      },
      "execution_count": 973,
      "outputs": [
        {
          "output_type": "execute_result",
          "data": {
            "text/plain": [
              "dtype('int64')"
            ]
          },
          "metadata": {},
          "execution_count": 973
        }
      ]
    },
    {
      "cell_type": "code",
      "source": [
        "df.boxplot(column = ['AGE'])"
      ],
      "metadata": {
        "colab": {
          "base_uri": "https://localhost:8080/",
          "height": 282
        },
        "id": "qj9GcUSQErw3",
        "outputId": "020cdde1-7b0a-4fe1-9434-a374b96d354d"
      },
      "execution_count": 974,
      "outputs": [
        {
          "output_type": "execute_result",
          "data": {
            "text/plain": [
              "<matplotlib.axes._subplots.AxesSubplot at 0x7fc2b498d1d0>"
            ]
          },
          "metadata": {},
          "execution_count": 974
        },
        {
          "output_type": "display_data",
          "data": {
            "text/plain": [
              "<Figure size 432x288 with 1 Axes>"
            ],
            "image/png": "[encoded data removed]"
          },
          "metadata": {
            "needs_background": "light"
          }
        }
      ]
    },
    {
      "cell_type": "code",
      "source": [
        "# we see no outliers\n",
        "# the data is good to go. the intreasiting point is that,\n",
        "# the median age stands arround 23-25 while the max is still arround 55-60\n",
        "# normal distribution overall"
      ],
      "metadata": {
        "id": "BlI_XO8DE90w"
      },
      "execution_count": 975,
      "outputs": []
    },
    {
      "cell_type": "code",
      "source": [
        "df.groupby('AGE')['SALES_PRICE'].mean().sort_index(ascending=True).plot.bar()"
      ],
      "metadata": {
        "colab": {
          "base_uri": "https://localhost:8080/",
          "height": 310
        },
        "id": "T9YnKYj5Fjx3",
        "outputId": "f885d5ce-e5a9-4e2f-c90e-8014e657f7da"
      },
      "execution_count": 976,
      "outputs": [
        {
          "output_type": "execute_result",
          "data": {
            "text/plain": [
              "<matplotlib.axes._subplots.AxesSubplot at 0x7fc2b494a310>"
            ]
          },
          "metadata": {},
          "execution_count": 976
        },
        {
          "output_type": "display_data",
          "data": {
            "text/plain": [
              "<Figure size 432x288 with 1 Axes>"
            ],
            "image/png": "[encoded data removed]"
          },
          "metadata": {
            "needs_background": "light"
          }
        }
      ]
    },
    {
      "cell_type": "code",
      "source": [
        "# there is an inverse relationship, it has ups and downs\n",
        "# but we can see the linear pattern .\n",
        "# we also see 43 years old house with a very high price\n",
        "# which explains the other features are more influensive also.\n",
        "# this column definately has values to contribute.\n",
        "# so we are retaining."
      ],
      "metadata": {
        "id": "qS1bpnTNGE7S"
      },
      "execution_count": 977,
      "outputs": []
    },
    {
      "cell_type": "code",
      "source": [
        "df.head()"
      ],
      "metadata": {
        "colab": {
          "base_uri": "https://localhost:8080/",
          "height": 206
        },
        "id": "NGeONz-kNYNb",
        "outputId": "9fc64c29-3647-4087-bade-1219f2709dad"
      },
      "execution_count": 978,
      "outputs": [
        {
          "output_type": "execute_result",
          "data": {
            "text/plain": [
              "   AREA  INT_SQFT  N_BEDROOM  N_BATHROOM  N_ROOM  PARK_FACIL  STREET  \\\n",
              "0     0      1004        1.0         1.0       3           1       1   \n",
              "1     5      1986        2.0         1.0       5           0       2   \n",
              "2     1       909        1.0         1.0       3           1       2   \n",
              "3     3      1855        3.0         2.0       5           0       1   \n",
              "4     0      1226        1.0         1.0       3           1       2   \n",
              "\n",
              "   SALES_PRICE  AGE  BUILDTYPE_Commercial  BUILDTYPE_House  BUILDTYPE_Others  \n",
              "0      7600000   44                     1                0                 0  \n",
              "1     21717770   11                     1                0                 0  \n",
              "2     13159200   20                     1                0                 0  \n",
              "3      9630290   22                     0                0                 1  \n",
              "4      7406250   30                     0                0                 1  "
            ],
            "text/html": [
              "\n",
              "  <div id=\"df-7415c0f0-8f28-43ef-9495-443b31adf049\">\n",
              "    <div class=\"colab-df-container\">\n",
              "      <div>\n",
              "<style scoped>\n",
              "    .dataframe tbody tr th:only-of-type {\n",
              "        vertical-align: middle;\n",
              "    }\n",
              "\n",
              "    .dataframe tbody tr th {\n",
              "        vertical-align: top;\n",
              "    }\n",
              "\n",
              "    .dataframe thead th {\n",
              "        text-align: right;\n",
              "    }\n",
              "</style>\n",
              "<table border=\"1\" class=\"dataframe\">\n",
              "  <thead>\n",
              "    <tr style=\"text-align: right;\">\n",
              "      <th></th>\n",
              "      <th>AREA</th>\n",
              "      <th>INT_SQFT</th>\n",
              "      <th>N_BEDROOM</th>\n",
              "      <th>N_BATHROOM</th>\n",
              "      <th>N_ROOM</th>\n",
              "      <th>PARK_FACIL</th>\n",
              "      <th>STREET</th>\n",
              "      <th>SALES_PRICE</th>\n",
              "      <th>AGE</th>\n",
              "      <th>BUILDTYPE_Commercial</th>\n",
              "      <th>BUILDTYPE_House</th>\n",
              "      <th>BUILDTYPE_Others</th>\n",
              "    </tr>\n",
              "  </thead>\n",
              "  <tbody>\n",
              "    <tr>\n",
              "      <th>0</th>\n",
              "      <td>0</td>\n",
              "      <td>1004</td>\n",
              "      <td>1.0</td>\n",
              "      <td>1.0</td>\n",
              "      <td>3</td>\n",
              "      <td>1</td>\n",
              "      <td>1</td>\n",
              "      <td>7600000</td>\n",
              "      <td>44</td>\n",
              "      <td>1</td>\n",
              "      <td>0</td>\n",
              "      <td>0</td>\n",
              "    </tr>\n",
              "    <tr>\n",
              "      <th>1</th>\n",
              "      <td>5</td>\n",
              "      <td>1986</td>\n",
              "      <td>2.0</td>\n",
              "      <td>1.0</td>\n",
              "      <td>5</td>\n",
              "      <td>0</td>\n",
              "      <td>2</td>\n",
              "      <td>21717770</td>\n",
              "      <td>11</td>\n",
              "      <td>1</td>\n",
              "      <td>0</td>\n",
              "      <td>0</td>\n",
              "    </tr>\n",
              "    <tr>\n",
              "      <th>2</th>\n",
              "      <td>1</td>\n",
              "      <td>909</td>\n",
              "      <td>1.0</td>\n",
              "      <td>1.0</td>\n",
              "      <td>3</td>\n",
              "      <td>1</td>\n",
              "      <td>2</td>\n",
              "      <td>13159200</td>\n",
              "      <td>20</td>\n",
              "      <td>1</td>\n",
              "      <td>0</td>\n",
              "      <td>0</td>\n",
              "    </tr>\n",
              "    <tr>\n",
              "      <th>3</th>\n",
              "      <td>3</td>\n",
              "      <td>1855</td>\n",
              "      <td>3.0</td>\n",
              "      <td>2.0</td>\n",
              "      <td>5</td>\n",
              "      <td>0</td>\n",
              "      <td>1</td>\n",
              "      <td>9630290</td>\n",
              "      <td>22</td>\n",
              "      <td>0</td>\n",
              "      <td>0</td>\n",
              "      <td>1</td>\n",
              "    </tr>\n",
              "    <tr>\n",
              "      <th>4</th>\n",
              "      <td>0</td>\n",
              "      <td>1226</td>\n",
              "      <td>1.0</td>\n",
              "      <td>1.0</td>\n",
              "      <td>3</td>\n",
              "      <td>1</td>\n",
              "      <td>2</td>\n",
              "      <td>7406250</td>\n",
              "      <td>30</td>\n",
              "      <td>0</td>\n",
              "      <td>0</td>\n",
              "      <td>1</td>\n",
              "    </tr>\n",
              "  </tbody>\n",
              "</table>\n",
              "</div>\n",
              "      <button class=\"colab-df-convert\" onclick=\"convertToInteractive('df-7415c0f0-8f28-43ef-9495-443b31adf049')\"\n",
              "              title=\"Convert this dataframe to an interactive table.\"\n",
              "              style=\"display:none;\">\n",
              "        \n",
              "  <svg xmlns=\"http://www.w3.org/2000/svg\" height=\"24px\"viewBox=\"0 0 24 24\"\n",
              "       width=\"24px\">\n",
              "    <path d=\"M0 0h24v24H0V0z\" fill=\"none\"/>\n",
              "    <path d=\"M18.56 5.44l.94 2.06.94-2.06 2.06-.94-2.06-.94-.94-2.06-.94 2.06-2.06.94zm-11 1L8.5 8.5l.94-2.06 2.06-.94-2.06-.94L8.5 2.5l-.94 2.06-2.06.94zm10 10l.94 2.06.94-2.06 2.06-.94-2.06-.94-.94-2.06-.94 2.06-2.06.94z\"/><path d=\"M17.41 7.96l-1.37-1.37c-.4-.4-.92-.59-1.43-.59-.52 0-1.04.2-1.43.59L10.3 9.45l-7.72 7.72c-.78.78-.78 2.05 0 2.83L4 21.41c.39.39.9.59 1.41.59.51 0 1.02-.2 1.41-.59l7.78-7.78 2.81-2.81c.8-.78.8-2.07 0-2.86zM5.41 20L4 18.59l7.72-7.72 1.47 1.35L5.41 20z\"/>\n",
              "  </svg>\n",
              "      </button>\n",
              "      \n",
              "  <style>\n",
              "    .colab-df-container {\n",
              "      display:flex;\n",
              "      flex-wrap:wrap;\n",
              "      gap: 12px;\n",
              "    }\n",
              "\n",
              "    .colab-df-convert {\n",
              "      background-color: #E8F0FE;\n",
              "      border: none;\n",
              "      border-radius: 50%;\n",
              "      cursor: pointer;\n",
              "      display: none;\n",
              "      fill: #1967D2;\n",
              "      height: 32px;\n",
              "      padding: 0 0 0 0;\n",
              "      width: 32px;\n",
              "    }\n",
              "\n",
              "    .colab-df-convert:hover {\n",
              "      background-color: #E2EBFA;\n",
              "      box-shadow: 0px 1px 2px rgba(60, 64, 67, 0.3), 0px 1px 3px 1px rgba(60, 64, 67, 0.15);\n",
              "      fill: #174EA6;\n",
              "    }\n",
              "\n",
              "    [theme=dark] .colab-df-convert {\n",
              "      background-color: #3B4455;\n",
              "      fill: #D2E3FC;\n",
              "    }\n",
              "\n",
              "    [theme=dark] .colab-df-convert:hover {\n",
              "      background-color: #434B5C;\n",
              "      box-shadow: 0px 1px 3px 1px rgba(0, 0, 0, 0.15);\n",
              "      filter: drop-shadow(0px 1px 2px rgba(0, 0, 0, 0.3));\n",
              "      fill: #FFFFFF;\n",
              "    }\n",
              "  </style>\n",
              "\n",
              "      <script>\n",
              "        const buttonEl =\n",
              "          document.querySelector('#df-7415c0f0-8f28-43ef-9495-443b31adf049 button.colab-df-convert');\n",
              "        buttonEl.style.display =\n",
              "          google.colab.kernel.accessAllowed ? 'block' : 'none';\n",
              "\n",
              "        async function convertToInteractive(key) {\n",
              "          const element = document.querySelector('#df-7415c0f0-8f28-43ef-9495-443b31adf049');\n",
              "          const dataTable =\n",
              "            await google.colab.kernel.invokeFunction('convertToInteractive',\n",
              "                                                     [key], {});\n",
              "          if (!dataTable) return;\n",
              "\n",
              "          const docLinkHtml = 'Like what you see? Visit the ' +\n",
              "            '<a target=\"_blank\" href=https://colab.research.google.com/notebooks/data_table.ipynb>data table notebook</a>'\n",
              "            + ' to learn more about interactive tables.';\n",
              "          element.innerHTML = '';\n",
              "          dataTable['output_type'] = 'display_data';\n",
              "          await google.colab.output.renderOutput(dataTable, element);\n",
              "          const docLink = document.createElement('div');\n",
              "          docLink.innerHTML = docLinkHtml;\n",
              "          element.appendChild(docLink);\n",
              "        }\n",
              "      </script>\n",
              "    </div>\n",
              "  </div>\n",
              "  "
            ]
          },
          "metadata": {},
          "execution_count": 978
        }
      ]
    },
    {
      "cell_type": "code",
      "source": [
        "# we see all columns in numbers and so we will be moving to the next step, as the data is clean."
      ],
      "metadata": {
        "id": "XHTosDIIHGx_"
      },
      "execution_count": 979,
      "outputs": []
    },
    {
      "cell_type": "markdown",
      "source": [
        "# Splitting the Data."
      ],
      "metadata": {
        "id": "o4gfxTclN6cj"
      }
    },
    {
      "cell_type": "code",
      "source": [
        "from sklearn.model_selection import train_test_split\n",
        "from sklearn.preprocessing import StandardScaler"
      ],
      "metadata": {
        "id": "abIORICmcu-y"
      },
      "execution_count": 980,
      "outputs": []
    },
    {
      "cell_type": "code",
      "source": [
        "x = df.drop(columns=['SALES_PRICE'])\n",
        "y = df['SALES_PRICE']\n",
        "x_train, x_test, y_train, y_test = train_test_split(x,y,test_size = 0.3)\n",
        "x_train.head()"
      ],
      "metadata": {
        "colab": {
          "base_uri": "https://localhost:8080/",
          "height": 206
        },
        "id": "1qr1vcV4dRkZ",
        "outputId": "1d30e81a-b1e6-4ac0-f73d-27d69a985d87"
      },
      "execution_count": 981,
      "outputs": [
        {
          "output_type": "execute_result",
          "data": {
            "text/plain": [
              "      AREA  INT_SQFT  N_BEDROOM  N_BATHROOM  N_ROOM  PARK_FACIL  STREET  AGE  \\\n",
              "2493     3      1574        2.0         1.0       4           0       0    5   \n",
              "6633     0      1650        2.0         2.0       4           1       2   19   \n",
              "6033     2      1081        1.0         1.0       3           1       2    4   \n",
              "6923     6      1840        2.0         1.0       5           1       1   41   \n",
              "171      2      1020        1.0         1.0       3           0       0   24   \n",
              "\n",
              "      BUILDTYPE_Commercial  BUILDTYPE_House  BUILDTYPE_Others  \n",
              "2493                     1                0                 0  \n",
              "6633                     0                0                 1  \n",
              "6033                     0                0                 1  \n",
              "6923                     0                0                 1  \n",
              "171                      0                1                 0  "
            ],
            "text/html": [
              "\n",
              "  <div id=\"df-88aadfde-f29e-4142-8076-96b2aaf30573\">\n",
              "    <div class=\"colab-df-container\">\n",
              "      <div>\n",
              "<style scoped>\n",
              "    .dataframe tbody tr th:only-of-type {\n",
              "        vertical-align: middle;\n",
              "    }\n",
              "\n",
              "    .dataframe tbody tr th {\n",
              "        vertical-align: top;\n",
              "    }\n",
              "\n",
              "    .dataframe thead th {\n",
              "        text-align: right;\n",
              "    }\n",
              "</style>\n",
              "<table border=\"1\" class=\"dataframe\">\n",
              "  <thead>\n",
              "    <tr style=\"text-align: right;\">\n",
              "      <th></th>\n",
              "      <th>AREA</th>\n",
              "      <th>INT_SQFT</th>\n",
              "      <th>N_BEDROOM</th>\n",
              "      <th>N_BATHROOM</th>\n",
              "      <th>N_ROOM</th>\n",
              "      <th>PARK_FACIL</th>\n",
              "      <th>STREET</th>\n",
              "      <th>AGE</th>\n",
              "      <th>BUILDTYPE_Commercial</th>\n",
              "      <th>BUILDTYPE_House</th>\n",
              "      <th>BUILDTYPE_Others</th>\n",
              "    </tr>\n",
              "  </thead>\n",
              "  <tbody>\n",
              "    <tr>\n",
              "      <th>2493</th>\n",
              "      <td>3</td>\n",
              "      <td>1574</td>\n",
              "      <td>2.0</td>\n",
              "      <td>1.0</td>\n",
              "      <td>4</td>\n",
              "      <td>0</td>\n",
              "      <td>0</td>\n",
              "      <td>5</td>\n",
              "      <td>1</td>\n",
              "      <td>0</td>\n",
              "      <td>0</td>\n",
              "    </tr>\n",
              "    <tr>\n",
              "      <th>6633</th>\n",
              "      <td>0</td>\n",
              "      <td>1650</td>\n",
              "      <td>2.0</td>\n",
              "      <td>2.0</td>\n",
              "      <td>4</td>\n",
              "      <td>1</td>\n",
              "      <td>2</td>\n",
              "      <td>19</td>\n",
              "      <td>0</td>\n",
              "      <td>0</td>\n",
              "      <td>1</td>\n",
              "    </tr>\n",
              "    <tr>\n",
              "      <th>6033</th>\n",
              "      <td>2</td>\n",
              "      <td>1081</td>\n",
              "      <td>1.0</td>\n",
              "      <td>1.0</td>\n",
              "      <td>3</td>\n",
              "      <td>1</td>\n",
              "      <td>2</td>\n",
              "      <td>4</td>\n",
              "      <td>0</td>\n",
              "      <td>0</td>\n",
              "      <td>1</td>\n",
              "    </tr>\n",
              "    <tr>\n",
              "      <th>6923</th>\n",
              "      <td>6</td>\n",
              "      <td>1840</td>\n",
              "      <td>2.0</td>\n",
              "      <td>1.0</td>\n",
              "      <td>5</td>\n",
              "      <td>1</td>\n",
              "      <td>1</td>\n",
              "      <td>41</td>\n",
              "      <td>0</td>\n",
              "      <td>0</td>\n",
              "      <td>1</td>\n",
              "    </tr>\n",
              "    <tr>\n",
              "      <th>171</th>\n",
              "      <td>2</td>\n",
              "      <td>1020</td>\n",
              "      <td>1.0</td>\n",
              "      <td>1.0</td>\n",
              "      <td>3</td>\n",
              "      <td>0</td>\n",
              "      <td>0</td>\n",
              "      <td>24</td>\n",
              "      <td>0</td>\n",
              "      <td>1</td>\n",
              "      <td>0</td>\n",
              "    </tr>\n",
              "  </tbody>\n",
              "</table>\n",
              "</div>\n",
              "      <button class=\"colab-df-convert\" onclick=\"convertToInteractive('df-88aadfde-f29e-4142-8076-96b2aaf30573')\"\n",
              "              title=\"Convert this dataframe to an interactive table.\"\n",
              "              style=\"display:none;\">\n",
              "        \n",
              "  <svg xmlns=\"http://www.w3.org/2000/svg\" height=\"24px\"viewBox=\"0 0 24 24\"\n",
              "       width=\"24px\">\n",
              "    <path d=\"M0 0h24v24H0V0z\" fill=\"none\"/>\n",
              "    <path d=\"M18.56 5.44l.94 2.06.94-2.06 2.06-.94-2.06-.94-.94-2.06-.94 2.06-2.06.94zm-11 1L8.5 8.5l.94-2.06 2.06-.94-2.06-.94L8.5 2.5l-.94 2.06-2.06.94zm10 10l.94 2.06.94-2.06 2.06-.94-2.06-.94-.94-2.06-.94 2.06-2.06.94z\"/><path d=\"M17.41 7.96l-1.37-1.37c-.4-.4-.92-.59-1.43-.59-.52 0-1.04.2-1.43.59L10.3 9.45l-7.72 7.72c-.78.78-.78 2.05 0 2.83L4 21.41c.39.39.9.59 1.41.59.51 0 1.02-.2 1.41-.59l7.78-7.78 2.81-2.81c.8-.78.8-2.07 0-2.86zM5.41 20L4 18.59l7.72-7.72 1.47 1.35L5.41 20z\"/>\n",
              "  </svg>\n",
              "      </button>\n",
              "      \n",
              "  <style>\n",
              "    .colab-df-container {\n",
              "      display:flex;\n",
              "      flex-wrap:wrap;\n",
              "      gap: 12px;\n",
              "    }\n",
              "\n",
              "    .colab-df-convert {\n",
              "      background-color: #E8F0FE;\n",
              "      border: none;\n",
              "      border-radius: 50%;\n",
              "      cursor: pointer;\n",
              "      display: none;\n",
              "      fill: #1967D2;\n",
              "      height: 32px;\n",
              "      padding: 0 0 0 0;\n",
              "      width: 32px;\n",
              "    }\n",
              "\n",
              "    .colab-df-convert:hover {\n",
              "      background-color: #E2EBFA;\n",
              "      box-shadow: 0px 1px 2px rgba(60, 64, 67, 0.3), 0px 1px 3px 1px rgba(60, 64, 67, 0.15);\n",
              "      fill: #174EA6;\n",
              "    }\n",
              "\n",
              "    [theme=dark] .colab-df-convert {\n",
              "      background-color: #3B4455;\n",
              "      fill: #D2E3FC;\n",
              "    }\n",
              "\n",
              "    [theme=dark] .colab-df-convert:hover {\n",
              "      background-color: #434B5C;\n",
              "      box-shadow: 0px 1px 3px 1px rgba(0, 0, 0, 0.15);\n",
              "      filter: drop-shadow(0px 1px 2px rgba(0, 0, 0, 0.3));\n",
              "      fill: #FFFFFF;\n",
              "    }\n",
              "  </style>\n",
              "\n",
              "      <script>\n",
              "        const buttonEl =\n",
              "          document.querySelector('#df-88aadfde-f29e-4142-8076-96b2aaf30573 button.colab-df-convert');\n",
              "        buttonEl.style.display =\n",
              "          google.colab.kernel.accessAllowed ? 'block' : 'none';\n",
              "\n",
              "        async function convertToInteractive(key) {\n",
              "          const element = document.querySelector('#df-88aadfde-f29e-4142-8076-96b2aaf30573');\n",
              "          const dataTable =\n",
              "            await google.colab.kernel.invokeFunction('convertToInteractive',\n",
              "                                                     [key], {});\n",
              "          if (!dataTable) return;\n",
              "\n",
              "          const docLinkHtml = 'Like what you see? Visit the ' +\n",
              "            '<a target=\"_blank\" href=https://colab.research.google.com/notebooks/data_table.ipynb>data table notebook</a>'\n",
              "            + ' to learn more about interactive tables.';\n",
              "          element.innerHTML = '';\n",
              "          dataTable['output_type'] = 'display_data';\n",
              "          await google.colab.output.renderOutput(dataTable, element);\n",
              "          const docLink = document.createElement('div');\n",
              "          docLink.innerHTML = docLinkHtml;\n",
              "          element.appendChild(docLink);\n",
              "        }\n",
              "      </script>\n",
              "    </div>\n",
              "  </div>\n",
              "  "
            ]
          },
          "metadata": {},
          "execution_count": 981
        }
      ]
    },
    {
      "cell_type": "markdown",
      "source": [
        "# Linear regression"
      ],
      "metadata": {
        "id": "pJuqIPIIgq0q"
      }
    },
    {
      "cell_type": "code",
      "source": [
        "from sklearn import linear_model\n",
        "features = list(df.columns)\n",
        "features.remove('SALES_PRICE')"
      ],
      "metadata": {
        "id": "eo-QcCeygucJ"
      },
      "execution_count": 982,
      "outputs": []
    },
    {
      "cell_type": "code",
      "source": [
        "linreg = linear_model.LinearRegression()\n",
        "linreg.fit(x, y)\n",
        "print('intercept:', linreg.intercept_)\n",
        "print('coefficients:', linreg.coef_)"
      ],
      "metadata": {
        "colab": {
          "base_uri": "https://localhost:8080/"
        },
        "id": "uYbKBUadhXSy",
        "outputId": "10c5fca0-bb06-43d0-9200-436821949939"
      },
      "execution_count": 983,
      "outputs": [
        {
          "output_type": "stream",
          "name": "stdout",
          "text": [
            "intercept: 2544547.0127642723\n",
            "coefficients: [ 8.26770428e+05  5.38373623e+02 -1.58585401e+06  4.74702166e+05\n",
            "  1.91109967e+06  1.01158934e+06  5.16524141e+05 -2.29271370e+04\n",
            "  2.88731254e+06 -1.77415637e+06 -1.11315617e+06]\n"
          ]
        }
      ]
    },
    {
      "cell_type": "markdown",
      "source": [
        "# Feature Importances"
      ],
      "metadata": {
        "id": "-hE-GZ44iPxa"
      }
    },
    {
      "cell_type": "code",
      "source": [
        "import itertools\n",
        "\n",
        "combinations = []\n",
        "for x in range(1,8):\n",
        "    combinations.append(itertools.combinations(df[features], x))\n",
        "\n",
        "best_score = 0\n",
        "bestfeatures = []\n",
        "for item in combinations:\n",
        "    for group in item:\n",
        "        group = list(group)\n",
        "        x = df[group]\n",
        "        linreg = linear_model.LinearRegression()\n",
        "        linreg.fit(x, y)\n",
        "        score = linreg.score(x, y)\n",
        "        if score > best_score:\n",
        "          best_score = score\n",
        "          bestfeatures = x.columns"
      ],
      "metadata": {
        "id": "QGhYeDVaiBfh"
      },
      "execution_count": 984,
      "outputs": []
    },
    {
      "cell_type": "code",
      "source": [
        "print('R2 =',best_score,'\\n')\n",
        "print('Best Features are...\\n')\n",
        "for i in range(len(bestfeatures)):\n",
        "  print(i+1,' ',bestfeatures[i])"
      ],
      "metadata": {
        "colab": {
          "base_uri": "https://localhost:8080/"
        },
        "id": "e_9U5UxxlFLK",
        "outputId": "42c2b5f1-ad2c-4727-a282-82232cf3118f"
      },
      "execution_count": 985,
      "outputs": [
        {
          "output_type": "stream",
          "name": "stdout",
          "text": [
            "R2 = 0.868314218757007 \n",
            "\n",
            "Best Features are...\n",
            "\n",
            "1   AREA\n",
            "2   N_BEDROOM\n",
            "3   N_ROOM\n",
            "4   PARK_FACIL\n",
            "5   STREET\n",
            "6   AGE\n",
            "7   BUILDTYPE_Commercial\n"
          ]
        }
      ]
    },
    {
      "cell_type": "markdown",
      "source": [
        "# Scaling the data."
      ],
      "metadata": {
        "id": "hZTv0wt5wAiT"
      }
    },
    {
      "cell_type": "code",
      "source": [
        "x = df.drop(columns=['SALES_PRICE'])\n",
        "y = df['SALES_PRICE']\n",
        "x_train, x_test, y_train, y_test = train_test_split(x,y,test_size = 0.3)\n",
        "x_train.head()"
      ],
      "metadata": {
        "colab": {
          "base_uri": "https://localhost:8080/",
          "height": 206
        },
        "id": "Y6ebN7EbrDGu",
        "outputId": "22c7c992-951e-411c-99d9-238148f34c26"
      },
      "execution_count": 986,
      "outputs": [
        {
          "output_type": "execute_result",
          "data": {
            "text/plain": [
              "      AREA  INT_SQFT  N_BEDROOM  N_BATHROOM  N_ROOM  PARK_FACIL  STREET  AGE  \\\n",
              "5119     4      2349        4.0         2.0       6           0       1   25   \n",
              "7023     2       711        1.0         1.0       2           0       2   15   \n",
              "1017     0      1058        1.0         1.0       3           1       2   11   \n",
              "3397     2       869        1.0         1.0       3           1       1   17   \n",
              "6868     0      1074        1.0         1.0       3           0       0   45   \n",
              "\n",
              "      BUILDTYPE_Commercial  BUILDTYPE_House  BUILDTYPE_Others  \n",
              "5119                     0                1                 0  \n",
              "7023                     0                0                 1  \n",
              "1017                     0                0                 1  \n",
              "3397                     0                0                 1  \n",
              "6868                     1                0                 0  "
            ],
            "text/html": [
              "\n",
              "  <div id=\"df-368b9e17-f812-479d-b64b-5f2093b42cf1\">\n",
              "    <div class=\"colab-df-container\">\n",
              "      <div>\n",
              "<style scoped>\n",
              "    .dataframe tbody tr th:only-of-type {\n",
              "        vertical-align: middle;\n",
              "    }\n",
              "\n",
              "    .dataframe tbody tr th {\n",
              "        vertical-align: top;\n",
              "    }\n",
              "\n",
              "    .dataframe thead th {\n",
              "        text-align: right;\n",
              "    }\n",
              "</style>\n",
              "<table border=\"1\" class=\"dataframe\">\n",
              "  <thead>\n",
              "    <tr style=\"text-align: right;\">\n",
              "      <th></th>\n",
              "      <th>AREA</th>\n",
              "      <th>INT_SQFT</th>\n",
              "      <th>N_BEDROOM</th>\n",
              "      <th>N_BATHROOM</th>\n",
              "      <th>N_ROOM</th>\n",
              "      <th>PARK_FACIL</th>\n",
              "      <th>STREET</th>\n",
              "      <th>AGE</th>\n",
              "      <th>BUILDTYPE_Commercial</th>\n",
              "      <th>BUILDTYPE_House</th>\n",
              "      <th>BUILDTYPE_Others</th>\n",
              "    </tr>\n",
              "  </thead>\n",
              "  <tbody>\n",
              "    <tr>\n",
              "      <th>5119</th>\n",
              "      <td>4</td>\n",
              "      <td>2349</td>\n",
              "      <td>4.0</td>\n",
              "      <td>2.0</td>\n",
              "      <td>6</td>\n",
              "      <td>0</td>\n",
              "      <td>1</td>\n",
              "      <td>25</td>\n",
              "      <td>0</td>\n",
              "      <td>1</td>\n",
              "      <td>0</td>\n",
              "    </tr>\n",
              "    <tr>\n",
              "      <th>7023</th>\n",
              "      <td>2</td>\n",
              "      <td>711</td>\n",
              "      <td>1.0</td>\n",
              "      <td>1.0</td>\n",
              "      <td>2</td>\n",
              "      <td>0</td>\n",
              "      <td>2</td>\n",
              "      <td>15</td>\n",
              "      <td>0</td>\n",
              "      <td>0</td>\n",
              "      <td>1</td>\n",
              "    </tr>\n",
              "    <tr>\n",
              "      <th>1017</th>\n",
              "      <td>0</td>\n",
              "      <td>1058</td>\n",
              "      <td>1.0</td>\n",
              "      <td>1.0</td>\n",
              "      <td>3</td>\n",
              "      <td>1</td>\n",
              "      <td>2</td>\n",
              "      <td>11</td>\n",
              "      <td>0</td>\n",
              "      <td>0</td>\n",
              "      <td>1</td>\n",
              "    </tr>\n",
              "    <tr>\n",
              "      <th>3397</th>\n",
              "      <td>2</td>\n",
              "      <td>869</td>\n",
              "      <td>1.0</td>\n",
              "      <td>1.0</td>\n",
              "      <td>3</td>\n",
              "      <td>1</td>\n",
              "      <td>1</td>\n",
              "      <td>17</td>\n",
              "      <td>0</td>\n",
              "      <td>0</td>\n",
              "      <td>1</td>\n",
              "    </tr>\n",
              "    <tr>\n",
              "      <th>6868</th>\n",
              "      <td>0</td>\n",
              "      <td>1074</td>\n",
              "      <td>1.0</td>\n",
              "      <td>1.0</td>\n",
              "      <td>3</td>\n",
              "      <td>0</td>\n",
              "      <td>0</td>\n",
              "      <td>45</td>\n",
              "      <td>1</td>\n",
              "      <td>0</td>\n",
              "      <td>0</td>\n",
              "    </tr>\n",
              "  </tbody>\n",
              "</table>\n",
              "</div>\n",
              "      <button class=\"colab-df-convert\" onclick=\"convertToInteractive('df-368b9e17-f812-479d-b64b-5f2093b42cf1')\"\n",
              "              title=\"Convert this dataframe to an interactive table.\"\n",
              "              style=\"display:none;\">\n",
              "        \n",
              "  <svg xmlns=\"http://www.w3.org/2000/svg\" height=\"24px\"viewBox=\"0 0 24 24\"\n",
              "       width=\"24px\">\n",
              "    <path d=\"M0 0h24v24H0V0z\" fill=\"none\"/>\n",
              "    <path d=\"M18.56 5.44l.94 2.06.94-2.06 2.06-.94-2.06-.94-.94-2.06-.94 2.06-2.06.94zm-11 1L8.5 8.5l.94-2.06 2.06-.94-2.06-.94L8.5 2.5l-.94 2.06-2.06.94zm10 10l.94 2.06.94-2.06 2.06-.94-2.06-.94-.94-2.06-.94 2.06-2.06.94z\"/><path d=\"M17.41 7.96l-1.37-1.37c-.4-.4-.92-.59-1.43-.59-.52 0-1.04.2-1.43.59L10.3 9.45l-7.72 7.72c-.78.78-.78 2.05 0 2.83L4 21.41c.39.39.9.59 1.41.59.51 0 1.02-.2 1.41-.59l7.78-7.78 2.81-2.81c.8-.78.8-2.07 0-2.86zM5.41 20L4 18.59l7.72-7.72 1.47 1.35L5.41 20z\"/>\n",
              "  </svg>\n",
              "      </button>\n",
              "      \n",
              "  <style>\n",
              "    .colab-df-container {\n",
              "      display:flex;\n",
              "      flex-wrap:wrap;\n",
              "      gap: 12px;\n",
              "    }\n",
              "\n",
              "    .colab-df-convert {\n",
              "      background-color: #E8F0FE;\n",
              "      border: none;\n",
              "      border-radius: 50%;\n",
              "      cursor: pointer;\n",
              "      display: none;\n",
              "      fill: #1967D2;\n",
              "      height: 32px;\n",
              "      padding: 0 0 0 0;\n",
              "      width: 32px;\n",
              "    }\n",
              "\n",
              "    .colab-df-convert:hover {\n",
              "      background-color: #E2EBFA;\n",
              "      box-shadow: 0px 1px 2px rgba(60, 64, 67, 0.3), 0px 1px 3px 1px rgba(60, 64, 67, 0.15);\n",
              "      fill: #174EA6;\n",
              "    }\n",
              "\n",
              "    [theme=dark] .colab-df-convert {\n",
              "      background-color: #3B4455;\n",
              "      fill: #D2E3FC;\n",
              "    }\n",
              "\n",
              "    [theme=dark] .colab-df-convert:hover {\n",
              "      background-color: #434B5C;\n",
              "      box-shadow: 0px 1px 3px 1px rgba(0, 0, 0, 0.15);\n",
              "      filter: drop-shadow(0px 1px 2px rgba(0, 0, 0, 0.3));\n",
              "      fill: #FFFFFF;\n",
              "    }\n",
              "  </style>\n",
              "\n",
              "      <script>\n",
              "        const buttonEl =\n",
              "          document.querySelector('#df-368b9e17-f812-479d-b64b-5f2093b42cf1 button.colab-df-convert');\n",
              "        buttonEl.style.display =\n",
              "          google.colab.kernel.accessAllowed ? 'block' : 'none';\n",
              "\n",
              "        async function convertToInteractive(key) {\n",
              "          const element = document.querySelector('#df-368b9e17-f812-479d-b64b-5f2093b42cf1');\n",
              "          const dataTable =\n",
              "            await google.colab.kernel.invokeFunction('convertToInteractive',\n",
              "                                                     [key], {});\n",
              "          if (!dataTable) return;\n",
              "\n",
              "          const docLinkHtml = 'Like what you see? Visit the ' +\n",
              "            '<a target=\"_blank\" href=https://colab.research.google.com/notebooks/data_table.ipynb>data table notebook</a>'\n",
              "            + ' to learn more about interactive tables.';\n",
              "          element.innerHTML = '';\n",
              "          dataTable['output_type'] = 'display_data';\n",
              "          await google.colab.output.renderOutput(dataTable, element);\n",
              "          const docLink = document.createElement('div');\n",
              "          docLink.innerHTML = docLinkHtml;\n",
              "          element.appendChild(docLink);\n",
              "        }\n",
              "      </script>\n",
              "    </div>\n",
              "  </div>\n",
              "  "
            ]
          },
          "metadata": {},
          "execution_count": 986
        }
      ]
    },
    {
      "cell_type": "code",
      "source": [
        "scaler = StandardScaler()\n",
        "x_train = scaler.fit_transform(x_train)\n",
        "x_test = scaler.transform(x_test)\n",
        "x_train"
      ],
      "metadata": {
        "colab": {
          "base_uri": "https://localhost:8080/"
        },
        "id": "NGXnmWMxwPUc",
        "outputId": "fe4ff285-3399-4257-9bb0-9837c1917ed8"
      },
      "execution_count": 987,
      "outputs": [
        {
          "output_type": "execute_result",
          "data": {
            "text/plain": [
              "array([[ 0.80456768,  2.12719734,  2.9582025 , ..., -0.70945279,\n",
              "         1.38509028, -0.69001438],\n",
              "       [-0.28039947, -1.4565579 , -0.78861974, ..., -0.70945279,\n",
              "        -0.7219746 ,  1.44924516],\n",
              "       [-1.36536661, -0.69736189, -0.78861974, ..., -0.70945279,\n",
              "        -0.7219746 ,  1.44924516],\n",
              "       ...,\n",
              "       [-1.36536661, -0.07600261,  0.46032101, ...,  1.40953706,\n",
              "        -0.7219746 , -0.69001438],\n",
              "       [ 0.80456768,  0.23248914,  0.46032101, ...,  1.40953706,\n",
              "        -0.7219746 , -0.69001438],\n",
              "       [ 1.34705125,  0.34844703, -0.78861974, ..., -0.70945279,\n",
              "        -0.7219746 ,  1.44924516]])"
            ]
          },
          "metadata": {},
          "execution_count": 987
        }
      ]
    },
    {
      "cell_type": "markdown",
      "source": [
        "# KNN Model Building"
      ],
      "metadata": {
        "id": "G52N-qsIICef"
      }
    },
    {
      "cell_type": "code",
      "source": [
        "from sklearn.neighbors import KNeighborsRegressor\n",
        "from sklearn.model_selection import cross_val_score\n",
        "\n",
        "l_ac = []\n",
        "for i in [1,2,3,4,5,6,7,8,9,10]:\n",
        "  knn = KNeighborsRegressor(i)\n",
        "  knn.fit(x_train,y_train)\n",
        "  print(\"K value  : \" , i, \" train score : \", knn.score(x_train,y_train) , \" score : \", np.mean(cross_val_score(knn, x_train, y_train, cv=10)))\n",
        "  l_ac.append(np.mean(cross_val_score(knn, x_train, y_train, cv=10)))"
      ],
      "metadata": {
        "colab": {
          "base_uri": "https://localhost:8080/"
        },
        "id": "LC1EA69Y236s",
        "outputId": "1016bb31-fd79-4172-c976-ce6441f879e8"
      },
      "execution_count": 988,
      "outputs": [
        {
          "output_type": "stream",
          "name": "stdout",
          "text": [
            "K value  :  1  train score :  0.9999931751677631  score :  0.8998417596746091\n",
            "K value  :  2  train score :  0.9753556640661943  score :  0.922045064123467\n",
            "K value  :  3  train score :  0.9659880775256863  score :  0.9290244722151119\n",
            "K value  :  4  train score :  0.9609246214502417  score :  0.9314981830631913\n",
            "K value  :  5  train score :  0.9568786254300311  score :  0.9316304161598726\n",
            "K value  :  6  train score :  0.954101318291986  score :  0.9310476076531791\n",
            "K value  :  7  train score :  0.9509499817578017  score :  0.9304231408427877\n",
            "K value  :  8  train score :  0.9481526002244194  score :  0.9302486922643087\n",
            "K value  :  9  train score :  0.9460700928036236  score :  0.9288447634519192\n",
            "K value  :  10  train score :  0.9440388672490172  score :  0.9279948157943625\n"
          ]
        }
      ]
    },
    {
      "cell_type": "code",
      "source": [
        "# we will take the Kvalue as 5 as the train score and the test score perfect.\n",
        "# it does'nt seam to over fit or underfit in the 4 near neighbours.\n",
        "# our score is 0.9316304161598726"
      ],
      "metadata": {
        "id": "6w3h6JTAFsId"
      },
      "execution_count": 990,
      "outputs": []
    },
    {
      "cell_type": "markdown",
      "source": [
        "# Decision Tree Model Building."
      ],
      "metadata": {
        "id": "1wNbuuLJIADU"
      }
    },
    {
      "cell_type": "code",
      "source": [
        "from sklearn.tree import DecisionTreeRegressor\n",
        "\n",
        "for depth in [1,2,3,4,5,6,7,8,9,10]:\n",
        "  dt = DecisionTreeRegressor(max_depth=depth)\n",
        "  \n",
        "  dt.fit(x_train, y_train)\n",
        "  trainAccuracy = dt.score(x_train,y_train) \n",
        "  dt = DecisionTreeRegressor(max_depth=depth) \n",
        "  valAccuracy = cross_val_score(dt, x, y, cv=10) \n",
        "  print(\"Depth  : \", depth, \" Training Accuracy : \", trainAccuracy, \" Cross val score : \" ,np.mean(valAccuracy))\n"
      ],
      "metadata": {
        "colab": {
          "base_uri": "https://localhost:8080/"
        },
        "id": "ZXcrOy2MObHv",
        "outputId": "47bef1bc-90e6-4ce4-c0f0-e35d8712a1c9"
      },
      "execution_count": 991,
      "outputs": [
        {
          "output_type": "stream",
          "name": "stdout",
          "text": [
            "Depth  :  1  Training Accuracy :  0.36099728027058375  Cross val score :  0.3588875752516194\n",
            "Depth  :  2  Training Accuracy :  0.6881482349313295  Cross val score :  0.6819059001742293\n",
            "Depth  :  3  Training Accuracy :  0.8022938718746107  Cross val score :  0.8016324100218641\n",
            "Depth  :  4  Training Accuracy :  0.8873012284553474  Cross val score :  0.8827061313816389\n",
            "Depth  :  5  Training Accuracy :  0.9125862176792059  Cross val score :  0.9049491437125535\n",
            "Depth  :  6  Training Accuracy :  0.9301360790902086  Cross val score :  0.9187480912339888\n",
            "Depth  :  7  Training Accuracy :  0.9430620543392244  Cross val score :  0.9272736804904026\n",
            "Depth  :  8  Training Accuracy :  0.9527198325903707  Cross val score :  0.9309821258014466\n",
            "Depth  :  9  Training Accuracy :  0.9617008640102553  Cross val score :  0.9291896692139929\n",
            "Depth  :  10  Training Accuracy :  0.9705923980004485  Cross val score :  0.9248582595441078\n"
          ]
        }
      ]
    },
    {
      "cell_type": "code",
      "source": [
        "# depth of 8 dose not seem to be over fitting as we see training accuracy \n",
        "# is greater than the cross valdation. so we will take 8 as our depth and the\n",
        "# score is 0.9309821258014466"
      ],
      "metadata": {
        "id": "GKLk8tELQ3QF"
      },
      "execution_count": 992,
      "outputs": []
    },
    {
      "cell_type": "markdown",
      "source": [
        "# Random Forest Model Building"
      ],
      "metadata": {
        "id": "depBapPEUhSm"
      }
    },
    {
      "cell_type": "markdown",
      "source": [
        "# Bagging"
      ],
      "metadata": {
        "id": "kY71KCu6aLV_"
      }
    },
    {
      "cell_type": "code",
      "source": [
        "from sklearn.ensemble import BaggingRegressor\n",
        "from sklearn import tree\n",
        "for depth in [1,2,3,4,5,6,7,8,9,10,11,12,13,14,15]:\n",
        "  model = BaggingRegressor(tree.DecisionTreeRegressor(max_depth = depth, random_state=8), n_estimators=100)\n",
        "  model.fit(x_train, y_train)\n",
        "  model.score(x_test,y_test)\n",
        "  valAccuracy = cross_val_score(rf, x, y, cv=10)\n",
        "  print(depth,\" Training Accuracy : \", trainAccuracy, \" Cross val score : \" ,np.mean(valAccuracy))"
      ],
      "metadata": {
        "colab": {
          "base_uri": "https://localhost:8080/"
        },
        "id": "3e3sxVyHaKFR",
        "outputId": "928b6dd8-4c36-4827-cca2-08adea2c96a2"
      },
      "execution_count": 1014,
      "outputs": [
        {
          "output_type": "stream",
          "name": "stdout",
          "text": [
            "1  Training Accuracy :  0.9705923980004485  Cross val score :  0.9442103887912076\n",
            "2  Training Accuracy :  0.9705923980004485  Cross val score :  0.9441699350516155\n",
            "3  Training Accuracy :  0.9705923980004485  Cross val score :  0.9440742573334434\n",
            "4  Training Accuracy :  0.9705923980004485  Cross val score :  0.9441775969273294\n",
            "5  Training Accuracy :  0.9705923980004485  Cross val score :  0.9440769524527022\n",
            "6  Training Accuracy :  0.9705923980004485  Cross val score :  0.9441886180791841\n",
            "7  Training Accuracy :  0.9705923980004485  Cross val score :  0.9441158732652222\n",
            "8  Training Accuracy :  0.9705923980004485  Cross val score :  0.9439120558075977\n",
            "9  Training Accuracy :  0.9705923980004485  Cross val score :  0.9441779279182125\n",
            "10  Training Accuracy :  0.9705923980004485  Cross val score :  0.9441370157106459\n",
            "11  Training Accuracy :  0.9705923980004485  Cross val score :  0.9441506800783948\n",
            "12  Training Accuracy :  0.9705923980004485  Cross val score :  0.9440301622761298\n",
            "13  Training Accuracy :  0.9705923980004485  Cross val score :  0.9443309646559559\n",
            "14  Training Accuracy :  0.9705923980004485  Cross val score :  0.9440437171554731\n",
            "15  Training Accuracy :  0.9705923980004485  Cross val score :  0.9442336546044517\n"
          ]
        }
      ]
    },
    {
      "cell_type": "code",
      "source": [
        "# depth of 6 was the best with a score of 0.9441886180791841"
      ],
      "metadata": {
        "id": "bFBvsV4AgVRH"
      },
      "execution_count": null,
      "outputs": []
    },
    {
      "cell_type": "code",
      "source": [
        "from sklearn.ensemble import RandomForestRegressor\n",
        "from sklearn.model_selection import cross_val_score\n",
        "import numpy as np\n",
        "\n",
        "for depth in [1,2,3,4,5,6,7,8,9,10,11,12,13,14,15]:\n",
        "  rf = RandomForestRegressor(n_estimators= 100, max_depth = depth, max_features='sqrt')\n",
        "  rf.fit(x_train, y_train)\n",
        "  valAccuracy = cross_val_score(rf, x, y, cv=10)\n",
        "  print(depth,\" Training Accuracy : \", trainAccuracy, \" Cross val score : \" ,np.mean(valAccuracy))"
      ],
      "metadata": {
        "colab": {
          "base_uri": "https://localhost:8080/"
        },
        "id": "xkdyGMrSUeQg",
        "outputId": "a4edad27-3bc5-4e05-9596-ba40601aa176"
      },
      "execution_count": 1013,
      "outputs": [
        {
          "output_type": "stream",
          "name": "stdout",
          "text": [
            "1  Training Accuracy :  0.9705923980004485  Cross val score :  0.4191380012678933\n",
            "2  Training Accuracy :  0.9705923980004485  Cross val score :  0.6587805788051979\n",
            "3  Training Accuracy :  0.9705923980004485  Cross val score :  0.7923664703005145\n",
            "4  Training Accuracy :  0.9705923980004485  Cross val score :  0.8645775583151224\n",
            "5  Training Accuracy :  0.9705923980004485  Cross val score :  0.9029012734767639\n",
            "6  Training Accuracy :  0.9705923980004485  Cross val score :  0.9224231175722304\n",
            "7  Training Accuracy :  0.9705923980004485  Cross val score :  0.9337322275439496\n",
            "8  Training Accuracy :  0.9705923980004485  Cross val score :  0.9407339600775417\n",
            "9  Training Accuracy :  0.9705923980004485  Cross val score :  0.9442560263440953\n",
            "10  Training Accuracy :  0.9705923980004485  Cross val score :  0.9461241964699019\n",
            "11  Training Accuracy :  0.9705923980004485  Cross val score :  0.9465762749290455\n",
            "12  Training Accuracy :  0.9705923980004485  Cross val score :  0.9462684563298749\n",
            "13  Training Accuracy :  0.9705923980004485  Cross val score :  0.945384476974332\n",
            "14  Training Accuracy :  0.9705923980004485  Cross val score :  0.9444595053295821\n",
            "15  Training Accuracy :  0.9705923980004485  Cross val score :  0.944086202447201\n"
          ]
        }
      ]
    },
    {
      "cell_type": "code",
      "source": [
        "# in the Random forest our accuracy is a drastic increase to 0.9465762749290455\n",
        "# 11 was the max depth."
      ],
      "metadata": {
        "id": "KvqmaYN8YWed"
      },
      "execution_count": null,
      "outputs": []
    },
    {
      "cell_type": "markdown",
      "source": [
        "# XG_Boost"
      ],
      "metadata": {
        "id": "1S4MQ2p1YU51"
      }
    },
    {
      "cell_type": "code",
      "source": [
        "import xgboost as xgb\n",
        "from sklearn.model_selection import cross_val_score\n",
        "import numpy as np\n",
        "score = -70\n",
        "l = 0\n",
        "for lr in np.arange(0.01, 0.30, 0.01):\n",
        "  lr = round(lr,2)\n",
        "  model = xgb.XGBRegressor(learning_rate = lr, n_estimators=100, verbosity = 0)\n",
        "  model.fit(x_train,y_train) \n",
        "  model.score(x_test, y_test)\n",
        "  s = np.mean(cross_val_score(model, x_train, y_train, cv=10))\n",
        "  t = model.score(x_train,y_train)\n",
        "  if s > score and t > s:\n",
        "    score = s\n",
        "    l = lr\n",
        "print('The best score obtained = ',score)\n",
        "print('The learning rate =',l)    "
      ],
      "metadata": {
        "colab": {
          "base_uri": "https://localhost:8080/"
        },
        "id": "jscw2YK-dY3L",
        "outputId": "1f6bf600-8975-4b3b-fc41-ee1d905036a7"
      },
      "execution_count": 1041,
      "outputs": [
        {
          "output_type": "stream",
          "name": "stdout",
          "text": [
            "The best score obtained =  0.9513621191966773\n",
            "The learning rate = 0.16\n"
          ]
        }
      ]
    },
    {
      "cell_type": "code",
      "source": [
        "# we have got the best score for the data to be 0.9513621191966773\n",
        "# at a learning rate of 0.16 through xgboost.\n",
        "# this is the highest score so far."
      ],
      "metadata": {
        "id": "fGQTUP9PiBwj"
      },
      "execution_count": 1042,
      "outputs": []
    }
  ]
}